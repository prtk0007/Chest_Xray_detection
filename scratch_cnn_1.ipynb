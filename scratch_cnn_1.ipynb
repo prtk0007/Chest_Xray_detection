{
  "nbformat": 4,
  "nbformat_minor": 0,
  "metadata": {
    "colab": {
      "name": "scratch_cnn_1.ipynb",
      "provenance": [],
      "collapsed_sections": [],
      "mount_file_id": "https://github.com/prtk0007/Chest_Xray_detection/blob/Covid-detect/scratch_cnn_1.ipynb",
      "authorship_tag": "ABX9TyO0McTThT2jAE8c6nnyEFxl",
      "include_colab_link": true
    },
    "kernelspec": {
      "name": "python3",
      "display_name": "Python 3"
    },
    "accelerator": "GPU"
  },
  "cells": [
    {
      "cell_type": "markdown",
      "metadata": {
        "id": "view-in-github",
        "colab_type": "text"
      },
      "source": [
        "<a href=\"https://colab.research.google.com/github/prtk0007/Chest_Xray_detection/blob/Covid-detect/scratch_cnn_1.ipynb\" target=\"_parent\"><img src=\"https://colab.research.google.com/assets/colab-badge.svg\" alt=\"Open In Colab\"/></a>"
      ]
    },
    {
      "cell_type": "code",
      "metadata": {
        "id": "R1XmqXRerEIn"
      },
      "source": [
        "import os\n",
        "os.environ['KAGGLE_CONFIG_DIR'] = \"/content\"\n",
        "# # !kaggle datasets download -d paultimothymooney/chest-xray-pneumonia\n",
        "#! kaggle datasets download -d pcbreviglieri/pneumonia-xray-images\n",
        "!kaggle datasets download -d tawsifurrahman/covid19-radiography-database\n",
        "!unzip \\*.zip"
      ],
      "execution_count": null,
      "outputs": []
    },
    {
      "cell_type": "code",
      "metadata": {
        "id": "WJ8YEHj-4fyF",
        "outputId": "24af9091-dfaa-4aa0-f0da-3f35799b623c",
        "colab": {
          "base_uri": "https://localhost:8080/"
        }
      },
      "source": [
        "#!pip install split-folders\r\n",
        "import splitfolders\r\n",
        "splitfolders.ratio(\"/content/COVID-19 Radiography Database\", output=\"Data\", seed=1337, ratio=(.8, .2), group_prefix=None)"
      ],
      "execution_count": 3,
      "outputs": [
        {
          "output_type": "stream",
          "text": [
            "Copying files: 3886 files [00:04, 907.97 files/s] \n"
          ],
          "name": "stderr"
        }
      ]
    },
    {
      "cell_type": "code",
      "metadata": {
        "id": "OPQ6QDVlCIzI"
      },
      "source": [
        "import matplotlib.pyplot as plt\n",
        "import numpy as np\n",
        "import pandas as pd"
      ],
      "execution_count": 5,
      "outputs": []
    },
    {
      "cell_type": "code",
      "metadata": {
        "id": "fqJZa3arDwwJ"
      },
      "source": [
        "train_path = '/content/Data/train'\n",
        "#test_path = '/content/test'\n",
        "valid_path = '/content/Data/val'"
      ],
      "execution_count": 8,
      "outputs": []
    },
    {
      "cell_type": "code",
      "metadata": {
        "id": "HARIiHrzEySz"
      },
      "source": [
        "\n",
        "#Define standard parameter values\n",
        "batch_size = 32\n",
        "img_height = 500\n",
        "img_width = 500\n"
      ],
      "execution_count": 6,
      "outputs": []
    },
    {
      "cell_type": "code",
      "metadata": {
        "id": "2HqL0LBA3mOC",
        "colab": {
          "base_uri": "https://localhost:8080/"
        },
        "outputId": "4da65318-667d-4c10-fef6-ba7f9f3c7b59"
      },
      "source": [
        "from tensorflow.keras.preprocessing.image import ImageDataGenerator, array_to_img\n",
        "\n",
        "image_gen = ImageDataGenerator(\n",
        "                                   rescale = 1./255,\n",
        "                                   shear_range = 0.2,\n",
        "                                   zoom_range = 0.2,\n",
        "                                   rotation_range=20,\n",
        "                                   horizontal_flip = True,\n",
        "                              \n",
        "                               )  \n",
        "\n",
        "test_data_gen = ImageDataGenerator(rescale = 1./255)\n",
        "\n",
        "\n",
        "\n",
        "train = image_gen.flow_from_directory(\n",
        "    train_path,\n",
        "    target_size=(img_height, img_width),\n",
        "    color_mode='rgb',\n",
        "    class_mode='categorical',\n",
        "    batch_size=batch_size\n",
        "                                      )\n",
        "\n",
        "# test = test_data_gen.flow_from_directory(\n",
        "#       test_path,\n",
        "#       target_size=(img_height, img_width),\n",
        "#       color_mode='grayscale',shuffle=False,\n",
        "#       class_mode='binary',\n",
        "#       batch_size=batch_size\n",
        "#       )\n",
        "valid = test_data_gen.flow_from_directory(\n",
        "      valid_path,\n",
        "      target_size=(img_height, img_width),\n",
        "      color_mode='rgb',shuffle=False,\n",
        "      class_mode='categorical', \n",
        "      batch_size=batch_size\n",
        "      )"
      ],
      "execution_count": 9,
      "outputs": [
        {
          "output_type": "stream",
          "text": [
            "Found 3108 images belonging to 3 classes.\n",
            "Found 778 images belonging to 3 classes.\n"
          ],
          "name": "stdout"
        }
      ]
    },
    {
      "cell_type": "code",
      "metadata": {
        "id": "RfeXspblliw3"
      },
      "source": [
        "from tensorflow.keras.models import Sequential,load_model,save_model\n",
        "from tensorflow.keras.layers import Dense,Conv2D,Flatten,MaxPooling2D,Dropout\n",
        "from tensorflow.keras.callbacks import EarlyStopping,ReduceLROnPlateau"
      ],
      "execution_count": 10,
      "outputs": []
    },
    {
      "cell_type": "code",
      "metadata": {
        "id": "B5weZVzmiU6n"
      },
      "source": [
        "# let's build the CNN model\n",
        "\n",
        "cnn = Sequential()\n",
        "\n",
        "cnn.add(Conv2D(32, (3, 3), activation=\"relu\", input_shape=(img_width, img_height, 3)))\n",
        "cnn.add(MaxPooling2D(pool_size = (2, 2)))\n",
        "\n",
        "cnn.add(Conv2D(32, (3, 3), activation=\"relu\", input_shape=(img_width, img_height, 3)))\n",
        "cnn.add(MaxPooling2D(pool_size = (2, 2)))\n",
        "\n",
        "cnn.add(Conv2D(32, (3, 3), activation=\"relu\", input_shape=(img_width, img_height, 3)))\n",
        "cnn.add(MaxPooling2D(pool_size = (2, 2)))\n",
        "\n",
        "cnn.add(Conv2D(64, (3, 3), activation=\"relu\", input_shape=(img_width, img_height, 3)))\n",
        "cnn.add(MaxPooling2D(pool_size = (2, 2)))\n",
        "\n",
        "cnn.add(Conv2D(64, (3, 3), activation=\"relu\", input_shape=(img_width, img_height, 3)))\n",
        "cnn.add(MaxPooling2D(pool_size = (2, 2)))\n",
        "\n",
        "cnn.add(Conv2D(128, (3, 3), activation=\"relu\", input_shape=(img_width, img_height, 3)))\n",
        "cnn.add(MaxPooling2D(pool_size = (2, 2)))\n",
        "\n",
        "cnn.add(Flatten())\n",
        "\n",
        "cnn.add(Dense(activation = 'relu', units = 256))\n",
        "cnn.add(Dropout(0.3))\n",
        "cnn.add(Dense(activation = 'relu', units = 128))\n",
        "cnn.add(Dropout(0.1))\n",
        "cnn.add(Dense(activation = 'softmax', units = 3))\n",
        "\n",
        "\n",
        "cnn.compile(optimizer = 'adam', loss = 'categorical_crossentropy', metrics = ['accuracy'])"
      ],
      "execution_count": 12,
      "outputs": []
    },
    {
      "cell_type": "code",
      "metadata": {
        "id": "_N-fJYMgwvxR",
        "colab": {
          "base_uri": "https://localhost:8080/"
        },
        "outputId": "332d4dc6-32fb-4b17-ef83-185358b0770f"
      },
      "source": [
        "cnn.summary()"
      ],
      "execution_count": 13,
      "outputs": [
        {
          "output_type": "stream",
          "text": [
            "Model: \"sequential_1\"\n",
            "_________________________________________________________________\n",
            "Layer (type)                 Output Shape              Param #   \n",
            "=================================================================\n",
            "conv2d_6 (Conv2D)            (None, 498, 498, 32)      896       \n",
            "_________________________________________________________________\n",
            "max_pooling2d_6 (MaxPooling2 (None, 249, 249, 32)      0         \n",
            "_________________________________________________________________\n",
            "conv2d_7 (Conv2D)            (None, 247, 247, 32)      9248      \n",
            "_________________________________________________________________\n",
            "max_pooling2d_7 (MaxPooling2 (None, 123, 123, 32)      0         \n",
            "_________________________________________________________________\n",
            "conv2d_8 (Conv2D)            (None, 121, 121, 32)      9248      \n",
            "_________________________________________________________________\n",
            "max_pooling2d_8 (MaxPooling2 (None, 60, 60, 32)        0         \n",
            "_________________________________________________________________\n",
            "conv2d_9 (Conv2D)            (None, 58, 58, 64)        18496     \n",
            "_________________________________________________________________\n",
            "max_pooling2d_9 (MaxPooling2 (None, 29, 29, 64)        0         \n",
            "_________________________________________________________________\n",
            "conv2d_10 (Conv2D)           (None, 27, 27, 64)        36928     \n",
            "_________________________________________________________________\n",
            "max_pooling2d_10 (MaxPooling (None, 13, 13, 64)        0         \n",
            "_________________________________________________________________\n",
            "conv2d_11 (Conv2D)           (None, 11, 11, 128)       73856     \n",
            "_________________________________________________________________\n",
            "max_pooling2d_11 (MaxPooling (None, 5, 5, 128)         0         \n",
            "_________________________________________________________________\n",
            "flatten_1 (Flatten)          (None, 3200)              0         \n",
            "_________________________________________________________________\n",
            "dense_3 (Dense)              (None, 256)               819456    \n",
            "_________________________________________________________________\n",
            "dropout_2 (Dropout)          (None, 256)               0         \n",
            "_________________________________________________________________\n",
            "dense_4 (Dense)              (None, 128)               32896     \n",
            "_________________________________________________________________\n",
            "dropout_3 (Dropout)          (None, 128)               0         \n",
            "_________________________________________________________________\n",
            "dense_5 (Dense)              (None, 3)                 387       \n",
            "=================================================================\n",
            "Total params: 1,001,411\n",
            "Trainable params: 1,001,411\n",
            "Non-trainable params: 0\n",
            "_________________________________________________________________\n"
          ],
          "name": "stdout"
        }
      ]
    },
    {
      "cell_type": "code",
      "metadata": {
        "id": "Aiw4SPH28S_S"
      },
      "source": [
        "early = EarlyStopping(monitor=\"val_loss\", \n",
        "                      mode=\"min\", \n",
        "                      patience=4)\n",
        "\n",
        "learning_rate_reduction = ReduceLROnPlateau(monitor='val_loss', patience = 2, verbose=1,factor=0.1, min_lr=0.0001)\n",
        "\n",
        "callbacks_list = [ early, learning_rate_reduction]"
      ],
      "execution_count": 14,
      "outputs": []
    },
    {
      "cell_type": "code",
      "metadata": {
        "id": "FhMkSOX2-PR3",
        "colab": {
          "base_uri": "https://localhost:8080/"
        },
        "outputId": "ed2d56f2-6e6e-40ab-f972-1bf8179a8509"
      },
      "source": [
        "from sklearn.utils.class_weight import compute_class_weight\n",
        "weights = compute_class_weight('balanced', np.unique(train.classes), train.classes)\n",
        "cw = dict(zip( np.unique(train.classes), weights))\n",
        "print(cw)"
      ],
      "execution_count": 15,
      "outputs": [
        {
          "output_type": "stream",
          "text": [
            "{0: 1.0791666666666666, 1: 0.9664179104477612, 2: 0.9628252788104089}\n"
          ],
          "name": "stdout"
        }
      ]
    },
    {
      "cell_type": "code",
      "metadata": {
        "id": "Eirr_AQc8g1g",
        "colab": {
          "base_uri": "https://localhost:8080/"
        },
        "outputId": "9758cbe4-29ed-4957-bad4-ff7786fe78fc"
      },
      "source": [
        "cnn.fit(train,epochs=20, validation_data=valid, class_weight=cw, callbacks=callbacks_list)"
      ],
      "execution_count": 16,
      "outputs": [
        {
          "output_type": "stream",
          "text": [
            "Epoch 1/20\n",
            "98/98 [==============================] - 242s 2s/step - loss: 0.9821 - accuracy: 0.4687 - val_loss: 0.4316 - val_accuracy: 0.8252\n",
            "Epoch 2/20\n",
            "98/98 [==============================] - 210s 2s/step - loss: 0.4005 - accuracy: 0.8515 - val_loss: 0.2836 - val_accuracy: 0.9062\n",
            "Epoch 3/20\n",
            "98/98 [==============================] - 212s 2s/step - loss: 0.3267 - accuracy: 0.8876 - val_loss: 0.2796 - val_accuracy: 0.9010\n",
            "Epoch 4/20\n",
            "98/98 [==============================] - 212s 2s/step - loss: 0.3148 - accuracy: 0.8939 - val_loss: 0.2799 - val_accuracy: 0.9113\n",
            "Epoch 5/20\n",
            "98/98 [==============================] - 213s 2s/step - loss: 0.2734 - accuracy: 0.9088 - val_loss: 0.2911 - val_accuracy: 0.9049\n",
            "\n",
            "Epoch 00005: ReduceLROnPlateau reducing learning rate to 0.00010000000474974513.\n",
            "Epoch 6/20\n",
            "98/98 [==============================] - 214s 2s/step - loss: 0.2320 - accuracy: 0.9258 - val_loss: 0.2026 - val_accuracy: 0.9383\n",
            "Epoch 7/20\n",
            "98/98 [==============================] - 215s 2s/step - loss: 0.2000 - accuracy: 0.9323 - val_loss: 0.2245 - val_accuracy: 0.9254\n",
            "Epoch 8/20\n",
            "98/98 [==============================] - 213s 2s/step - loss: 0.1999 - accuracy: 0.9298 - val_loss: 0.2403 - val_accuracy: 0.9152\n",
            "\n",
            "Epoch 00008: ReduceLROnPlateau reducing learning rate to 0.0001.\n",
            "Epoch 9/20\n",
            "98/98 [==============================] - 239s 2s/step - loss: 0.2039 - accuracy: 0.9286 - val_loss: 0.1901 - val_accuracy: 0.9344\n",
            "Epoch 10/20\n",
            "98/98 [==============================] - 235s 2s/step - loss: 0.2009 - accuracy: 0.9261 - val_loss: 0.2011 - val_accuracy: 0.9370\n",
            "Epoch 11/20\n",
            "98/98 [==============================] - 228s 2s/step - loss: 0.1728 - accuracy: 0.9418 - val_loss: 0.2058 - val_accuracy: 0.9344\n",
            "Epoch 12/20\n",
            "98/98 [==============================] - 214s 2s/step - loss: 0.1824 - accuracy: 0.9389 - val_loss: 0.1890 - val_accuracy: 0.9409\n",
            "Epoch 13/20\n",
            "98/98 [==============================] - 215s 2s/step - loss: 0.1844 - accuracy: 0.9288 - val_loss: 0.1892 - val_accuracy: 0.9409\n",
            "Epoch 14/20\n",
            "98/98 [==============================] - 214s 2s/step - loss: 0.1733 - accuracy: 0.9376 - val_loss: 0.2060 - val_accuracy: 0.9319\n",
            "Epoch 15/20\n",
            "98/98 [==============================] - 215s 2s/step - loss: 0.1809 - accuracy: 0.9360 - val_loss: 0.1786 - val_accuracy: 0.9422\n",
            "Epoch 16/20\n",
            "98/98 [==============================] - 217s 2s/step - loss: 0.1530 - accuracy: 0.9494 - val_loss: 0.2011 - val_accuracy: 0.9306\n",
            "Epoch 17/20\n",
            "98/98 [==============================] - 213s 2s/step - loss: 0.1737 - accuracy: 0.9378 - val_loss: 0.1744 - val_accuracy: 0.9422\n",
            "Epoch 18/20\n",
            "98/98 [==============================] - 211s 2s/step - loss: 0.1741 - accuracy: 0.9378 - val_loss: 0.1880 - val_accuracy: 0.9434\n",
            "Epoch 19/20\n",
            "98/98 [==============================] - 212s 2s/step - loss: 0.1700 - accuracy: 0.9383 - val_loss: 0.1935 - val_accuracy: 0.9383\n",
            "Epoch 20/20\n",
            "98/98 [==============================] - 213s 2s/step - loss: 0.1437 - accuracy: 0.9486 - val_loss: 0.1732 - val_accuracy: 0.9434\n"
          ],
          "name": "stdout"
        },
        {
          "output_type": "execute_result",
          "data": {
            "text/plain": [
              "<tensorflow.python.keras.callbacks.History at 0x7fa1490ff850>"
            ]
          },
          "metadata": {
            "tags": []
          },
          "execution_count": 16
        }
      ]
    },
    {
      "cell_type": "code",
      "metadata": {
        "colab": {
          "base_uri": "https://localhost:8080/"
        },
        "id": "WlmZc1ngfPPT",
        "outputId": "9d4a761a-aa4d-47ac-bc2f-67dae114ab37"
      },
      "source": [
        "cnn.evaluate(train)"
      ],
      "execution_count": null,
      "outputs": [
        {
          "output_type": "stream",
          "text": [
            "262/262 [==============================] - 110s 418ms/step - loss: 0.1063 - accuracy: 0.9594\n"
          ],
          "name": "stdout"
        },
        {
          "output_type": "execute_result",
          "data": {
            "text/plain": [
              "[0.10625752061605453, 0.9594465494155884]"
            ]
          },
          "metadata": {
            "tags": []
          },
          "execution_count": 34
        }
      ]
    },
    {
      "cell_type": "code",
      "metadata": {
        "id": "TOdhXZD1c7kT",
        "colab": {
          "base_uri": "https://localhost:8080/",
          "height": 282
        },
        "outputId": "bf225459-e36e-4036-cafd-84dc57e79743"
      },
      "source": [
        "pd.DataFrame(cnn.history.history).plot()"
      ],
      "execution_count": 17,
      "outputs": [
        {
          "output_type": "execute_result",
          "data": {
            "text/plain": [
              "<matplotlib.axes._subplots.AxesSubplot at 0x7fa0e2e16110>"
            ]
          },
          "metadata": {
            "tags": []
          },
          "execution_count": 17
        },
        {
          "output_type": "display_data",
          "data": {
            "image/png": "[encoded data removed]",
            "text/plain": [
              "<Figure size 432x288 with 1 Axes>"
            ]
          },
          "metadata": {
            "tags": [],
            "needs_background": "light"
          }
        }
      ]
    },
    {
      "cell_type": "code",
      "metadata": {
        "id": "WabvnBbzYjtm",
        "colab": {
          "base_uri": "https://localhost:8080/"
        },
        "outputId": "a91b1126-b0f8-483f-94c2-8726a6f4d2a2"
      },
      "source": [
        "preds = cnn.predict(valid,verbose=1)"
      ],
      "execution_count": 19,
      "outputs": [
        {
          "output_type": "stream",
          "text": [
            "25/25 [==============================] - 12s 503ms/step\n"
          ],
          "name": "stdout"
        }
      ]
    },
    {
      "cell_type": "code",
      "metadata": {
        "id": "0bOp1gU_LlkM",
        "outputId": "7ce434de-4bbc-4115-da6b-57cf4a058599",
        "colab": {
          "base_uri": "https://localhost:8080/"
        }
      },
      "source": [
        "preds"
      ],
      "execution_count": 20,
      "outputs": [
        {
          "output_type": "execute_result",
          "data": {
            "text/plain": [
              "array([[9.9999297e-01, 2.7397400e-07, 6.7899969e-06],\n",
              "       [9.9949384e-01, 4.0886545e-04, 9.7253964e-05],\n",
              "       [9.9742824e-01, 2.4014052e-03, 1.7036885e-04],\n",
              "       ...,\n",
              "       [9.4917966e-03, 7.0919530e-03, 9.8341620e-01],\n",
              "       [4.4361273e-05, 5.4860732e-04, 9.9940705e-01],\n",
              "       [2.7229907e-03, 7.8632766e-01, 2.1094930e-01]], dtype=float32)"
            ]
          },
          "metadata": {
            "tags": []
          },
          "execution_count": 20
        }
      ]
    },
    {
      "cell_type": "code",
      "metadata": {
        "id": "M7pNRGOURv5R"
      },
      "source": [
        "predictions = preds.copy()\n",
        "# predictions[predictions <= 0.5] = 0\n",
        "# predictions[predictions > 0.5] = 1\n"
      ],
      "execution_count": 22,
      "outputs": []
    },
    {
      "cell_type": "code",
      "metadata": {
        "id": "xs1MEssoLBMj",
        "outputId": "70ca1168-dcd4-4cfa-dac2-3126747117d9",
        "colab": {
          "base_uri": "https://localhost:8080/"
        }
      },
      "source": [
        "print(train.class_indices)"
      ],
      "execution_count": 21,
      "outputs": [
        {
          "output_type": "stream",
          "text": [
            "{'COVID': 0, 'NORMAL': 1, 'Viral Pneumonia': 2}\n"
          ],
          "name": "stdout"
        }
      ]
    },
    {
      "cell_type": "code",
      "metadata": {
        "id": "zioov-9cUzoe",
        "colab": {
          "base_uri": "https://localhost:8080/",
          "height": 297
        },
        "outputId": "777bb3f1-1593-4566-a461-af95e039b80b"
      },
      "source": [
        "from sklearn.metrics import classification_report,confusion_matrix\n",
        "\n",
        "cm = pd.DataFrame(data=confusion_matrix(valid.classes, predictions, labels=[0, 1, 2]),\n",
        "                  index=[\"Actual COVID\", \"Actual NORMAL\", \"Actual Viral Pneumonia\"],\n",
        "                  columns=[\"Actual COVID\", \"Actual NORMAL\", \"Actual Viral Pneumonia\"])\n",
        "import seaborn as sns\n",
        "sns.heatmap(cm,annot=True,fmt=\"d\")"
      ],
      "execution_count": null,
      "outputs": [
        {
          "output_type": "execute_result",
          "data": {
            "text/plain": [
              "<matplotlib.axes._subplots.AxesSubplot at 0x7fa4b1f293d0>"
            ]
          },
          "metadata": {
            "tags": []
          },
          "execution_count": 32
        },
        {
          "output_type": "display_data",
          "data": {
            "image/png": "[encoded data removed]",
            "text/plain": [
              "<Figure size 432x288 with 2 Axes>"
            ]
          },
          "metadata": {
            "tags": [],
            "needs_background": "light"
          }
        }
      ]
    },
    {
      "cell_type": "code",
      "metadata": {
        "id": "nbUlSI-dR1EV",
        "colab": {
          "base_uri": "https://localhost:8080/"
        },
        "outputId": "3c189a38-1ad3-439c-eaa9-501c82487c1a"
      },
      "source": [
        " print(classification_report(y_true=test.classes, y_pred=predictions,\n",
        "                            target_names =['NORMAL','PNEUMONIA']\n",
        " ))"
      ],
      "execution_count": null,
      "outputs": [
        {
          "output_type": "stream",
          "text": [
            "              precision    recall  f1-score   support\n",
            "\n",
            "      NORMAL       0.98      0.85      0.91       234\n",
            "   PNEUMONIA       0.92      0.99      0.95       390\n",
            "\n",
            "    accuracy                           0.94       624\n",
            "   macro avg       0.95      0.92      0.93       624\n",
            "weighted avg       0.94      0.94      0.94       624\n",
            "\n"
          ],
          "name": "stdout"
        }
      ]
    },
    {
      "cell_type": "code",
      "metadata": {
        "id": "VOCL8wzfS32K"
      },
      "source": [
        ""
      ],
      "execution_count": null,
      "outputs": []
    }
  ]
}