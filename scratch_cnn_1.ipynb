{
  "nbformat": 4,
  "nbformat_minor": 0,
  "metadata": {
    "colab": {
      "name": "scratch_cnn_1.ipynb",
      "provenance": [],
      "collapsed_sections": [],
      "authorship_tag": "ABX9TyPhe8DuB55aVgarSrc3jOaE",
      "include_colab_link": true
    },
    "kernelspec": {
      "name": "python3",
      "display_name": "Python 3"
    },
    "accelerator": "GPU"
  },
  "cells": [
    {
      "cell_type": "markdown",
      "metadata": {
        "id": "view-in-github",
        "colab_type": "text"
      },
      "source": [
        "<a href=\"https://colab.research.google.com/github/prtk0007/Chest_Xray_detection/blob/exp_binary/scratch_cnn_1.ipynb\" target=\"_parent\"><img src=\"https://colab.research.google.com/assets/colab-badge.svg\" alt=\"Open In Colab\"/></a>"
      ]
    },
    {
      "cell_type": "code",
      "metadata": {
        "id": "R1XmqXRerEIn"
      },
      "source": [
        "import os\n",
        "os.environ['KAGGLE_CONFIG_DIR'] = \"/content\"\n",
        "# # !kaggle datasets download -d paultimothymooney/chest-xray-pneumonia\n",
        "! kaggle datasets download -d pcbreviglieri/pneumonia-xray-images\n",
        "!unzip \\*.zip"
      ],
      "execution_count": null,
      "outputs": []
    },
    {
      "cell_type": "code",
      "metadata": {
        "id": "OPQ6QDVlCIzI"
      },
      "source": [
        "import matplotlib.pyplot as plt\n",
        "import numpy as np\n",
        "import pandas as pd"
      ],
      "execution_count": 2,
      "outputs": []
    },
    {
      "cell_type": "code",
      "metadata": {
        "id": "fqJZa3arDwwJ"
      },
      "source": [
        "train_path = '/content/train'\n",
        "test_path = '/content/test'\n",
        "valid_path = '/content/val'"
      ],
      "execution_count": 3,
      "outputs": []
    },
    {
      "cell_type": "code",
      "metadata": {
        "id": "HARIiHrzEySz"
      },
      "source": [
        "\n",
        "#Define standard parameter values\n",
        "batch_size = 16\n",
        "img_height = 500\n",
        "img_width = 500\n"
      ],
      "execution_count": 4,
      "outputs": []
    },
    {
      "cell_type": "code",
      "metadata": {
        "id": "2HqL0LBA3mOC",
        "colab": {
          "base_uri": "https://localhost:8080/"
        },
        "outputId": "439aa50d-01b5-4bde-fa41-d8f364deafac"
      },
      "source": [
        "from tensorflow.keras.preprocessing.image import ImageDataGenerator, array_to_img\n",
        "\n",
        "image_gen = ImageDataGenerator(\n",
        "                                   rescale = 1./255,\n",
        "                                   shear_range = 0.2,\n",
        "                                   zoom_range = 0.2,\n",
        "                                   horizontal_flip = True,\n",
        "                              \n",
        "                               )  \n",
        "\n",
        "test_data_gen = ImageDataGenerator(rescale = 1./255)\n",
        "\n",
        "\n",
        "\n",
        "train = image_gen.flow_from_directory(\n",
        "    train_path,\n",
        "    target_size=(img_height, img_width),\n",
        "    color_mode='grayscale',\n",
        "    class_mode='binary',\n",
        "    batch_size=batch_size\n",
        "                                      )\n",
        "\n",
        "test = test_data_gen.flow_from_directory(\n",
        "      test_path,\n",
        "      target_size=(img_height, img_width),\n",
        "      color_mode='grayscale',shuffle=False,\n",
        "      class_mode='binary',\n",
        "      batch_size=batch_size\n",
        "      )\n",
        "valid = test_data_gen.flow_from_directory(\n",
        "      valid_path,\n",
        "      target_size=(img_height, img_width),\n",
        "      color_mode='grayscale',\n",
        "      class_mode='binary', \n",
        "      batch_size=batch_size\n",
        "      )"
      ],
      "execution_count": 5,
      "outputs": [
        {
          "output_type": "stream",
          "text": [
            "Found 4192 images belonging to 2 classes.\n",
            "Found 624 images belonging to 2 classes.\n",
            "Found 1040 images belonging to 2 classes.\n"
          ],
          "name": "stdout"
        }
      ]
    },
    {
      "cell_type": "code",
      "metadata": {
        "id": "RfeXspblliw3"
      },
      "source": [
        "from tensorflow.keras.models import Sequential,load_model,save_model\n",
        "from tensorflow.keras.layers import Dense,Conv2D,Flatten,MaxPooling2D\n",
        "from tensorflow.keras.callbacks import EarlyStopping,ReduceLROnPlateau"
      ],
      "execution_count": 6,
      "outputs": []
    },
    {
      "cell_type": "code",
      "metadata": {
        "id": "B5weZVzmiU6n"
      },
      "source": [
        "# let's build the CNN model\n",
        "\n",
        "cnn = Sequential()\n",
        "\n",
        "cnn.add(Conv2D(32, (3, 3), activation=\"relu\", input_shape=(img_width, img_height, 1)))\n",
        "cnn.add(MaxPooling2D(pool_size = (2, 2)))\n",
        "\n",
        "cnn.add(Conv2D(32, (3, 3), activation=\"relu\", input_shape=(img_width, img_height, 1)))\n",
        "cnn.add(MaxPooling2D(pool_size = (2, 2)))\n",
        "\n",
        "cnn.add(Conv2D(32, (3, 3), activation=\"relu\", input_shape=(img_width, img_height, 1)))\n",
        "cnn.add(MaxPooling2D(pool_size = (2, 2)))\n",
        "\n",
        "cnn.add(Conv2D(64, (3, 3), activation=\"relu\", input_shape=(img_width, img_height, 1)))\n",
        "cnn.add(MaxPooling2D(pool_size = (2, 2)))\n",
        "\n",
        "cnn.add(Conv2D(64, (3, 3), activation=\"relu\", input_shape=(img_width, img_height, 1)))\n",
        "cnn.add(MaxPooling2D(pool_size = (2, 2)))\n",
        "\n",
        "cnn.add(Conv2D(128, (3, 3), activation=\"relu\", input_shape=(img_width, img_height, 1)))\n",
        "cnn.add(MaxPooling2D(pool_size = (2, 2)))\n",
        "\n",
        "cnn.add(Flatten())\n",
        "\n",
        "cnn.add(Dense(activation = 'relu', units = 128))\n",
        "cnn.add(Dense(activation = 'relu', units = 64))\n",
        "cnn.add(Dense(activation = 'sigmoid', units = 1))\n",
        "\n",
        "\n",
        "cnn.compile(optimizer = 'adam', loss = 'binary_crossentropy', metrics = ['accuracy'])"
      ],
      "execution_count": 13,
      "outputs": []
    },
    {
      "cell_type": "code",
      "metadata": {
        "id": "_N-fJYMgwvxR",
        "colab": {
          "base_uri": "https://localhost:8080/"
        },
        "outputId": "1746801c-9201-4be7-e0cf-8147d37bb38d"
      },
      "source": [
        "cnn.summary()"
      ],
      "execution_count": 14,
      "outputs": [
        {
          "output_type": "stream",
          "text": [
            "Model: \"sequential_3\"\n",
            "_________________________________________________________________\n",
            "Layer (type)                 Output Shape              Param #   \n",
            "=================================================================\n",
            "conv2d_17 (Conv2D)           (None, 498, 498, 32)      320       \n",
            "_________________________________________________________________\n",
            "max_pooling2d_17 (MaxPooling (None, 249, 249, 32)      0         \n",
            "_________________________________________________________________\n",
            "conv2d_18 (Conv2D)           (None, 247, 247, 32)      9248      \n",
            "_________________________________________________________________\n",
            "max_pooling2d_18 (MaxPooling (None, 123, 123, 32)      0         \n",
            "_________________________________________________________________\n",
            "conv2d_19 (Conv2D)           (None, 121, 121, 32)      9248      \n",
            "_________________________________________________________________\n",
            "max_pooling2d_19 (MaxPooling (None, 60, 60, 32)        0         \n",
            "_________________________________________________________________\n",
            "conv2d_20 (Conv2D)           (None, 58, 58, 64)        18496     \n",
            "_________________________________________________________________\n",
            "max_pooling2d_20 (MaxPooling (None, 29, 29, 64)        0         \n",
            "_________________________________________________________________\n",
            "conv2d_21 (Conv2D)           (None, 27, 27, 64)        36928     \n",
            "_________________________________________________________________\n",
            "max_pooling2d_21 (MaxPooling (None, 13, 13, 64)        0         \n",
            "_________________________________________________________________\n",
            "conv2d_22 (Conv2D)           (None, 11, 11, 128)       73856     \n",
            "_________________________________________________________________\n",
            "max_pooling2d_22 (MaxPooling (None, 5, 5, 128)         0         \n",
            "_________________________________________________________________\n",
            "flatten_3 (Flatten)          (None, 3200)              0         \n",
            "_________________________________________________________________\n",
            "dense_9 (Dense)              (None, 128)               409728    \n",
            "_________________________________________________________________\n",
            "dense_10 (Dense)             (None, 64)                8256      \n",
            "_________________________________________________________________\n",
            "dense_11 (Dense)             (None, 1)                 65        \n",
            "=================================================================\n",
            "Total params: 566,145\n",
            "Trainable params: 566,145\n",
            "Non-trainable params: 0\n",
            "_________________________________________________________________\n"
          ],
          "name": "stdout"
        }
      ]
    },
    {
      "cell_type": "code",
      "metadata": {
        "id": "Aiw4SPH28S_S"
      },
      "source": [
        "early = EarlyStopping(monitor=\"val_loss\", \n",
        "                      mode=\"min\", \n",
        "                      patience=3)\n",
        "\n",
        "learning_rate_reduction = ReduceLROnPlateau(monitor='val_loss', patience = 2, verbose=1,factor=0.3, min_lr=0.000001)\n",
        "\n",
        "callbacks_list = [ early, learning_rate_reduction]"
      ],
      "execution_count": 15,
      "outputs": []
    },
    {
      "cell_type": "code",
      "metadata": {
        "id": "FhMkSOX2-PR3",
        "colab": {
          "base_uri": "https://localhost:8080/"
        },
        "outputId": "d3c4457e-9472-45c6-ad79-f39697a93460"
      },
      "source": [
        "from sklearn.utils.class_weight import compute_class_weight\n",
        "weights = compute_class_weight('balanced', np.unique(train.classes), train.classes)\n",
        "cw = dict(zip( np.unique(train.classes), weights))\n",
        "print(cw)"
      ],
      "execution_count": 16,
      "outputs": [
        {
          "output_type": "stream",
          "text": [
            "{0: 1.9371534195933457, 1: 0.6739549839228296}\n"
          ],
          "name": "stdout"
        }
      ]
    },
    {
      "cell_type": "code",
      "metadata": {
        "id": "Eirr_AQc8g1g",
        "colab": {
          "base_uri": "https://localhost:8080/"
        },
        "outputId": "899988cf-8057-4ae1-a60b-25c97a0fbd06"
      },
      "source": [
        "cnn.fit(train,epochs=20, validation_data=valid, class_weight=cw, callbacks=callbacks_list)"
      ],
      "execution_count": 17,
      "outputs": [
        {
          "output_type": "stream",
          "text": [
            "Epoch 1/20\n",
            "262/262 [==============================] - 158s 486ms/step - loss: 0.6268 - accuracy: 0.6191 - val_loss: 0.2985 - val_accuracy: 0.8788\n",
            "Epoch 2/20\n",
            "262/262 [==============================] - 125s 478ms/step - loss: 0.2723 - accuracy: 0.8944 - val_loss: 0.3314 - val_accuracy: 0.8644\n",
            "Epoch 3/20\n",
            "262/262 [==============================] - 125s 477ms/step - loss: 0.1987 - accuracy: 0.9223 - val_loss: 0.2835 - val_accuracy: 0.8760\n",
            "Epoch 4/20\n",
            "262/262 [==============================] - 129s 491ms/step - loss: 0.2001 - accuracy: 0.9164 - val_loss: 0.5197 - val_accuracy: 0.7558\n",
            "Epoch 5/20\n",
            "262/262 [==============================] - 129s 491ms/step - loss: 0.2178 - accuracy: 0.9152 - val_loss: 0.2280 - val_accuracy: 0.9337\n",
            "Epoch 6/20\n",
            "262/262 [==============================] - 127s 483ms/step - loss: 0.2248 - accuracy: 0.9076 - val_loss: 0.1716 - val_accuracy: 0.9385\n",
            "Epoch 7/20\n",
            "262/262 [==============================] - 127s 483ms/step - loss: 0.1823 - accuracy: 0.9296 - val_loss: 0.1829 - val_accuracy: 0.9260\n",
            "Epoch 8/20\n",
            "262/262 [==============================] - 125s 478ms/step - loss: 0.1624 - accuracy: 0.9361 - val_loss: 0.2671 - val_accuracy: 0.8865\n",
            "\n",
            "Epoch 00008: ReduceLROnPlateau reducing learning rate to 0.0003000000142492354.\n",
            "Epoch 9/20\n",
            "262/262 [==============================] - 124s 472ms/step - loss: 0.1419 - accuracy: 0.9422 - val_loss: 0.1568 - val_accuracy: 0.9471\n",
            "Epoch 10/20\n",
            "262/262 [==============================] - 124s 471ms/step - loss: 0.1275 - accuracy: 0.9546 - val_loss: 0.1789 - val_accuracy: 0.9298\n",
            "Epoch 11/20\n",
            "262/262 [==============================] - 124s 472ms/step - loss: 0.1209 - accuracy: 0.9571 - val_loss: 0.1714 - val_accuracy: 0.9298\n",
            "\n",
            "Epoch 00011: ReduceLROnPlateau reducing learning rate to 9.000000427477062e-05.\n",
            "Epoch 12/20\n",
            "262/262 [==============================] - 122s 467ms/step - loss: 0.1326 - accuracy: 0.9439 - val_loss: 0.1619 - val_accuracy: 0.9346\n"
          ],
          "name": "stdout"
        },
        {
          "output_type": "execute_result",
          "data": {
            "text/plain": [
              "<tensorflow.python.keras.callbacks.History at 0x7fa524b57690>"
            ]
          },
          "metadata": {
            "tags": []
          },
          "execution_count": 17
        }
      ]
    },
    {
      "cell_type": "code",
      "metadata": {
        "id": "TOdhXZD1c7kT",
        "colab": {
          "base_uri": "https://localhost:8080/",
          "height": 281
        },
        "outputId": "ed8e5e16-9a25-40ea-a6e9-597856ab9254"
      },
      "source": [
        "pd.DataFrame(cnn.history.history).plot()"
      ],
      "execution_count": 18,
      "outputs": [
        {
          "output_type": "execute_result",
          "data": {
            "text/plain": [
              "<matplotlib.axes._subplots.AxesSubplot at 0x7fa4bd782d50>"
            ]
          },
          "metadata": {
            "tags": []
          },
          "execution_count": 18
        },
        {
          "output_type": "display_data",
          "data": {
            "image/png": "[encoded data removed]",
            "text/plain": [
              "<Figure size 432x288 with 1 Axes>"
            ]
          },
          "metadata": {
            "tags": [],
            "needs_background": "light"
          }
        }
      ]
    },
    {
      "cell_type": "code",
      "metadata": {
        "id": "WabvnBbzYjtm",
        "colab": {
          "base_uri": "https://localhost:8080/"
        },
        "outputId": "34f6d34b-aed6-4aec-ca1b-ec956217ff0f"
      },
      "source": [
        "preds = cnn.predict(test,verbose=1)"
      ],
      "execution_count": 19,
      "outputs": [
        {
          "output_type": "stream",
          "text": [
            "39/39 [==============================] - 7s 165ms/step\n"
          ],
          "name": "stdout"
        }
      ]
    },
    {
      "cell_type": "code",
      "metadata": {
        "id": "M7pNRGOURv5R"
      },
      "source": [
        "predictions = preds.copy()\n",
        "predictions[predictions <= 0.5] = 0\n",
        "predictions[predictions > 0.5] = 1"
      ],
      "execution_count": 20,
      "outputs": []
    },
    {
      "cell_type": "code",
      "metadata": {
        "id": "zioov-9cUzoe",
        "colab": {
          "base_uri": "https://localhost:8080/",
          "height": 297
        },
        "outputId": "36ad84fe-984c-4470-ddd7-1a4869e8e8df"
      },
      "source": [
        "from sklearn.metrics import classification_report,confusion_matrix\n",
        "\n",
        "cm = pd.DataFrame(data=confusion_matrix(test.classes, predictions, labels=[0, 1]),\n",
        "                  index=[\"Actual Normal\", \"Actual Pneumonia\"],\n",
        "                  columns=[\"Predicted Normal\", \"Predicted Pneumonia\"])\n",
        "import seaborn as sns\n",
        "sns.heatmap(cm,annot=True,fmt=\"d\")"
      ],
      "execution_count": 21,
      "outputs": [
        {
          "output_type": "execute_result",
          "data": {
            "text/plain": [
              "<matplotlib.axes._subplots.AxesSubplot at 0x7fa4bcc67a90>"
            ]
          },
          "metadata": {
            "tags": []
          },
          "execution_count": 21
        },
        {
          "output_type": "display_data",
          "data": {
            "image/png": "[encoded data removed]",
            "text/plain": [
              "<Figure size 432x288 with 2 Axes>"
            ]
          },
          "metadata": {
            "tags": [],
            "needs_background": "light"
          }
        }
      ]
    },
    {
      "cell_type": "code",
      "metadata": {
        "id": "nbUlSI-dR1EV",
        "colab": {
          "base_uri": "https://localhost:8080/"
        },
        "outputId": "1bb09a14-b262-4fb2-ad8d-e262389d53a5"
      },
      "source": [
        " print(classification_report(y_true=test.classes, y_pred=predictions,\n",
        "                            target_names =['NORMAL','PNEUMONIA']\n",
        " ))"
      ],
      "execution_count": 22,
      "outputs": [
        {
          "output_type": "stream",
          "text": [
            "              precision    recall  f1-score   support\n",
            "\n",
            "      NORMAL       0.93      0.80      0.86       234\n",
            "   PNEUMONIA       0.89      0.96      0.92       390\n",
            "\n",
            "    accuracy                           0.90       624\n",
            "   macro avg       0.91      0.88      0.89       624\n",
            "weighted avg       0.90      0.90      0.90       624\n",
            "\n"
          ],
          "name": "stdout"
        }
      ]
    },
    {
      "cell_type": "code",
      "metadata": {
        "id": "VOCL8wzfS32K"
      },
      "source": [
        ""
      ],
      "execution_count": null,
      "outputs": []
    }
  ]
}