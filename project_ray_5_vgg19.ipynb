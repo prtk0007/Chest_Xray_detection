{
  "nbformat": 4,
  "nbformat_minor": 0,
  "metadata": {
    "colab": {
      "name": "project_ray_5_vgg19.ipynb",
      "provenance": [],
      "collapsed_sections": [],
      "mount_file_id": "1fc0hCU_UgtaHYEmBUEvJO5XtTUdetu-M",
      "authorship_tag": "ABX9TyM21e4cbZcRYquYL78co2Oq",
      "include_colab_link": true
    },
    "kernelspec": {
      "name": "python3",
      "display_name": "Python 3"
    },
    "accelerator": "GPU"
  },
  "cells": [
    {
      "cell_type": "markdown",
      "metadata": {
        "id": "view-in-github",
        "colab_type": "text"
      },
      "source": [
        "<a href=\"https://colab.research.google.com/github/prtk0007/Chest_Xray_detection/blob/exp_binary/project_ray_5_vgg19.ipynb\" target=\"_parent\"><img src=\"https://colab.research.google.com/assets/colab-badge.svg\" alt=\"Open In Colab\"/></a>"
      ]
    },
    {
      "cell_type": "code",
      "metadata": {
        "id": "FDli6L0a8_of"
      },
      "source": [
        "import os\n",
        "os.environ['KAGGLE_CONFIG_DIR'] = \"/content\""
      ],
      "execution_count": 1,
      "outputs": []
    },
    {
      "cell_type": "code",
      "metadata": {
        "colab": {
          "base_uri": "https://localhost:8080/"
        },
        "id": "Pv8tO3vt9eOA",
        "outputId": "aea6a4e1-0488-4f7f-8717-3f6796399529"
      },
      "source": [
        "!kaggle datasets download -d paultimothymooney/chest-xray-pneumonia"
      ],
      "execution_count": 2,
      "outputs": [
        {
          "output_type": "stream",
          "text": [
            "Warning: Your Kaggle API key is readable by other users on this system! To fix this, you can run 'chmod 600 /content/kaggle.json'\n",
            "Downloading chest-xray-pneumonia.zip to /content\n",
            "100% 2.29G/2.29G [00:30<00:00, 26.5MB/s]\n",
            "100% 2.29G/2.29G [00:30<00:00, 80.3MB/s]\n"
          ],
          "name": "stdout"
        }
      ]
    },
    {
      "cell_type": "code",
      "metadata": {
        "id": "8paBEzCn90RS"
      },
      "source": [
        "!unzip \\*.zip"
      ],
      "execution_count": null,
      "outputs": []
    },
    {
      "cell_type": "code",
      "metadata": {
        "id": "KcQF88tb97Vo"
      },
      "source": [
        "from keras.layers import Input, Lambda, Dense, Flatten\n",
        "from keras.models import Model\n",
        "#from keras.applications.resnet50 import ResNet50\n",
        "from keras.applications.vgg19 import VGG19\n",
        "from keras.applications.vgg19 import preprocess_input\n",
        "from keras.preprocessing import image\n",
        "from keras.preprocessing.image import ImageDataGenerator\n",
        "from keras.models import Sequential\n",
        "import numpy as np\n",
        "from glob import glob\n",
        "import matplotlib.pyplot as plt"
      ],
      "execution_count": 5,
      "outputs": []
    },
    {
      "cell_type": "code",
      "metadata": {
        "id": "pD2F5AEf-DaV"
      },
      "source": [
        "IMAGE_SIZE = [224, 224]\n",
        "\n",
        "train_path = '/content/chest_xray/chest_xray/train'\n",
        "valid_path = '/content/chest_xray/chest_xray/test'"
      ],
      "execution_count": 6,
      "outputs": []
    },
    {
      "cell_type": "code",
      "metadata": {
        "colab": {
          "base_uri": "https://localhost:8080/"
        },
        "id": "aS0VXN4k-Xab",
        "outputId": "9295bb30-69bc-4681-94f2-d74cf3dc6767"
      },
      "source": [
        "vgg = VGG19(input_shape=IMAGE_SIZE + [3], weights='imagenet', include_top=False)"
      ],
      "execution_count": 7,
      "outputs": [
        {
          "output_type": "stream",
          "text": [
            "Downloading data from https://storage.googleapis.com/tensorflow/keras-applications/vgg19/vgg19_weights_tf_dim_ordering_tf_kernels_notop.h5\n",
            "80142336/80134624 [==============================] - 1s 0us/step\n"
          ],
          "name": "stdout"
        }
      ]
    },
    {
      "cell_type": "code",
      "metadata": {
        "id": "OC1norrG-gkx"
      },
      "source": [
        "for layer in vgg.layers:\n",
        "    layer.trainable = False"
      ],
      "execution_count": 8,
      "outputs": []
    },
    {
      "cell_type": "code",
      "metadata": {
        "colab": {
          "base_uri": "https://localhost:8080/"
        },
        "id": "mrK-9X5A-kk0",
        "outputId": "e670497a-6654-42fe-8eba-6bb4cce7e8c3"
      },
      "source": [
        "folders = glob('/content/chest_xray/chest_xray/train/*')\n",
        "folders"
      ],
      "execution_count": 9,
      "outputs": [
        {
          "output_type": "execute_result",
          "data": {
            "text/plain": [
              "['/content/chest_xray/chest_xray/train/NORMAL',\n",
              " '/content/chest_xray/chest_xray/train/PNEUMONIA']"
            ]
          },
          "metadata": {
            "tags": []
          },
          "execution_count": 9
        }
      ]
    },
    {
      "cell_type": "code",
      "metadata": {
        "id": "hlvOLo8g_R4l"
      },
      "source": [
        "vgg.summary()"
      ],
      "execution_count": null,
      "outputs": []
    },
    {
      "cell_type": "code",
      "metadata": {
        "id": "F_wTT_r6AIuC"
      },
      "source": [
        "from keras.layers import Dropout\n",
        "x = Flatten(name='flatten')(vgg.output)\n",
        "x = Dense(256, activation='relu', name='fc1')(x)\n",
        "x = Dropout(0.5, name='drop1')(x)\n",
        "x = Dense(256, activation='relu', name='fc2')(x)\n",
        "x = Dropout(0.5, name='drop2')(x)\n",
        "x = Dense(1, activation='sigmoid', name='predictions')(x)"
      ],
      "execution_count": 11,
      "outputs": []
    },
    {
      "cell_type": "code",
      "metadata": {
        "id": "N5E-4kgGAX48"
      },
      "source": [
        "model = Model(inputs=vgg.input, outputs=x)"
      ],
      "execution_count": 12,
      "outputs": []
    },
    {
      "cell_type": "code",
      "metadata": {
        "id": "B2Ls1Mj4Ap6z"
      },
      "source": [
        "model.summary()"
      ],
      "execution_count": null,
      "outputs": []
    },
    {
      "cell_type": "code",
      "metadata": {
        "id": "mio90IFqA2BN"
      },
      "source": [
        "from keras.optimizers import Adam\n",
        "\n",
        "model.compile(\n",
        "  loss='binary_crossentropy',\n",
        "  optimizer= 'adam',\n",
        "  metrics=['accuracy']\n",
        ")"
      ],
      "execution_count": 14,
      "outputs": []
    },
    {
      "cell_type": "code",
      "metadata": {
        "id": "6dxVFKOgBBCT"
      },
      "source": [
        "train_datagen = ImageDataGenerator(rescale = 1./255,\n",
        "                                   shear_range = 0.2,\n",
        "                                   zoom_range = 0.2,\n",
        "                                   horizontal_flip = True)\n",
        "\n",
        "test_datagen = ImageDataGenerator(rescale = 1./255) \n",
        "val_datagen = ImageDataGenerator(rescale = 1./255)"
      ],
      "execution_count": 15,
      "outputs": []
    },
    {
      "cell_type": "code",
      "metadata": {
        "colab": {
          "base_uri": "https://localhost:8080/"
        },
        "id": "ieZe_3SJBCin",
        "outputId": "a79ae748-7f62-41da-f174-68d6ed9d57e6"
      },
      "source": [
        "training_set = train_datagen.flow_from_directory('/content/chest_xray/chest_xray/train',\n",
        "                                                 target_size = (224, 224),\n",
        "                                                 batch_size = 32,\n",
        "                                                 class_mode = 'binary')"
      ],
      "execution_count": 16,
      "outputs": [
        {
          "output_type": "stream",
          "text": [
            "Found 5216 images belonging to 2 classes.\n"
          ],
          "name": "stdout"
        }
      ]
    },
    {
      "cell_type": "code",
      "metadata": {
        "colab": {
          "base_uri": "https://localhost:8080/"
        },
        "id": "rdEsgr1nBSEu",
        "outputId": "99b5e49b-e1f4-4086-defd-55fcb137fdb6"
      },
      "source": [
        "test_set = test_datagen.flow_from_directory('/content/chest_xray/chest_xray/test',\n",
        "                                            target_size = (224, 224),\n",
        "                                            batch_size = 32,\n",
        "                                            shuffle=False,\n",
        "                                            class_mode = 'binary')"
      ],
      "execution_count": 17,
      "outputs": [
        {
          "output_type": "stream",
          "text": [
            "Found 624 images belonging to 2 classes.\n"
          ],
          "name": "stdout"
        }
      ]
    },
    {
      "cell_type": "code",
      "metadata": {
        "colab": {
          "base_uri": "https://localhost:8080/"
        },
        "id": "nj0vVyg3ATzu",
        "outputId": "47cbc4a5-7aae-4782-82e5-52151247f950"
      },
      "source": [
        "val_set = val_datagen.flow_from_directory('/content/chest_xray/chest_xray/val',\n",
        "                                            target_size = (224, 224),\n",
        "                                            class_mode = 'binary')"
      ],
      "execution_count": 18,
      "outputs": [
        {
          "output_type": "stream",
          "text": [
            "Found 16 images belonging to 2 classes.\n"
          ],
          "name": "stdout"
        }
      ]
    },
    {
      "cell_type": "code",
      "metadata": {
        "id": "M0JWaSHTeDsJ"
      },
      "source": [
        "from tensorflow.keras.callbacks import EarlyStopping,ReduceLROnPlateau\r\n",
        "early = EarlyStopping(monitor='val_accuracy', mode='min', patience=10)\r\n",
        "learning_rate_reduction = ReduceLROnPlateau(monitor='val_loss', patience = 7, verbose=1,factor=0.3, min_lr=0.001)\r\n",
        "callbacks_list = [ early, learning_rate_reduction]"
      ],
      "execution_count": 27,
      "outputs": []
    },
    {
      "cell_type": "code",
      "metadata": {
        "colab": {
          "base_uri": "https://localhost:8080/"
        },
        "id": "bm97lvUZBeBB",
        "outputId": "390154e3-8bf1-4448-cc17-1da2535f7368"
      },
      "source": [
        "r = model.fit_generator(\n",
        "  training_set,\n",
        "  validation_data=test_set,\n",
        "  epochs=20,\n",
        "  callbacks=callbacks_list\n",
        ")"
      ],
      "execution_count": 28,
      "outputs": [
        {
          "output_type": "stream",
          "text": [
            "/usr/local/lib/python3.6/dist-packages/tensorflow/python/keras/engine/training.py:1844: UserWarning: `Model.fit_generator` is deprecated and will be removed in a future version. Please use `Model.fit`, which supports generators.\n",
            "  warnings.warn('`Model.fit_generator` is deprecated and '\n"
          ],
          "name": "stderr"
        },
        {
          "output_type": "stream",
          "text": [
            "Epoch 1/20\n",
            "163/163 [==============================] - 104s 637ms/step - loss: 0.3068 - accuracy: 0.7743 - val_loss: 0.4461 - val_accuracy: 0.8782\n",
            "Epoch 2/20\n",
            "163/163 [==============================] - 103s 631ms/step - loss: 0.3062 - accuracy: 0.8503 - val_loss: 0.4258 - val_accuracy: 0.8846\n",
            "Epoch 3/20\n",
            "163/163 [==============================] - 103s 633ms/step - loss: 0.2999 - accuracy: 0.8610 - val_loss: 0.4448 - val_accuracy: 0.8734\n",
            "Epoch 4/20\n",
            "163/163 [==============================] - 103s 630ms/step - loss: 0.2937 - accuracy: 0.8608 - val_loss: 0.4305 - val_accuracy: 0.8782\n",
            "Epoch 5/20\n",
            "163/163 [==============================] - 103s 629ms/step - loss: 0.2947 - accuracy: 0.8652 - val_loss: 0.4387 - val_accuracy: 0.8494\n",
            "Epoch 6/20\n",
            "163/163 [==============================] - 103s 632ms/step - loss: 0.2928 - accuracy: 0.8656 - val_loss: 0.4039 - val_accuracy: 0.8942\n",
            "Epoch 7/20\n",
            "163/163 [==============================] - 103s 630ms/step - loss: 0.2926 - accuracy: 0.8616 - val_loss: 0.4101 - val_accuracy: 0.8846\n",
            "Epoch 8/20\n",
            "163/163 [==============================] - 103s 630ms/step - loss: 0.2918 - accuracy: 0.8664 - val_loss: 0.4123 - val_accuracy: 0.8574\n",
            "Epoch 9/20\n",
            "163/163 [==============================] - 103s 633ms/step - loss: 0.2688 - accuracy: 0.8974 - val_loss: 0.3948 - val_accuracy: 0.8958\n",
            "Epoch 10/20\n",
            "163/163 [==============================] - 103s 631ms/step - loss: 0.2560 - accuracy: 0.9064 - val_loss: 0.3994 - val_accuracy: 0.8862\n",
            "Epoch 11/20\n",
            "163/163 [==============================] - 103s 631ms/step - loss: 0.2591 - accuracy: 0.9057 - val_loss: 0.3787 - val_accuracy: 0.9087\n",
            "Epoch 12/20\n",
            "163/163 [==============================] - 103s 632ms/step - loss: 0.2564 - accuracy: 0.9064 - val_loss: 0.3922 - val_accuracy: 0.8894\n",
            "Epoch 13/20\n",
            "163/163 [==============================] - 103s 632ms/step - loss: 0.2483 - accuracy: 0.9132 - val_loss: 0.3783 - val_accuracy: 0.9054\n",
            "Epoch 14/20\n",
            "163/163 [==============================] - 103s 631ms/step - loss: 0.2541 - accuracy: 0.9024 - val_loss: 0.3897 - val_accuracy: 0.8894\n",
            "Epoch 15/20\n",
            "163/163 [==============================] - 103s 632ms/step - loss: 0.2435 - accuracy: 0.9110 - val_loss: 0.3827 - val_accuracy: 0.8942\n"
          ],
          "name": "stdout"
        }
      ]
    },
    {
      "cell_type": "code",
      "metadata": {
        "colab": {
          "base_uri": "https://localhost:8080/"
        },
        "id": "yPc9pxwXYyFL",
        "outputId": "46784310-e199-4149-ea9e-84c2458218dc"
      },
      "source": [
        "model.evaluate(training_set)"
      ],
      "execution_count": 29,
      "outputs": [
        {
          "output_type": "stream",
          "text": [
            "163/163 [==============================] - 97s 595ms/step - loss: 0.2069 - accuracy: 0.9574\n"
          ],
          "name": "stdout"
        },
        {
          "output_type": "execute_result",
          "data": {
            "text/plain": [
              "[0.20689912140369415, 0.9574386477470398]"
            ]
          },
          "metadata": {
            "tags": []
          },
          "execution_count": 29
        }
      ]
    },
    {
      "cell_type": "code",
      "metadata": {
        "colab": {
          "base_uri": "https://localhost:8080/"
        },
        "id": "NJYq5aepAjcV",
        "outputId": "de94b2a8-a202-4ed7-cf01-95641862ac55"
      },
      "source": [
        "model.evaluate(test_set)"
      ],
      "execution_count": 30,
      "outputs": [
        {
          "output_type": "stream",
          "text": [
            "20/20 [==============================] - 6s 268ms/step - loss: 0.3827 - accuracy: 0.8942\n"
          ],
          "name": "stdout"
        },
        {
          "output_type": "execute_result",
          "data": {
            "text/plain": [
              "[0.38271185755729675, 0.8942307829856873]"
            ]
          },
          "metadata": {
            "tags": []
          },
          "execution_count": 30
        }
      ]
    },
    {
      "cell_type": "code",
      "metadata": {
        "colab": {
          "base_uri": "https://localhost:8080/"
        },
        "id": "UwSsPx0KA2Mn",
        "outputId": "471943f1-129d-48d7-ddcb-701bf68d4e06"
      },
      "source": [
        "model.evaluate(val_set)"
      ],
      "execution_count": 23,
      "outputs": [
        {
          "output_type": "stream",
          "text": [
            "1/1 [==============================] - 0s 212ms/step - loss: 0.5598 - accuracy: 0.5000\n"
          ],
          "name": "stdout"
        },
        {
          "output_type": "execute_result",
          "data": {
            "text/plain": [
              "[0.5598418712615967, 0.5]"
            ]
          },
          "metadata": {
            "tags": []
          },
          "execution_count": 23
        }
      ]
    },
    {
      "cell_type": "code",
      "metadata": {
        "id": "cK1-mxXgBo7_"
      },
      "source": [
        " pred = model.predict_generator(val_set)\n"
      ],
      "execution_count": null,
      "outputs": []
    },
    {
      "cell_type": "code",
      "metadata": {
        "id": "ZsM_b0Obj94e"
      },
      "source": [
        "from keras.models import load_model\n",
        "model = load_model('/content/drive/MyDrive/Kaggle/model_vgg19.h5')"
      ],
      "execution_count": null,
      "outputs": []
    },
    {
      "cell_type": "code",
      "metadata": {
        "id": "TnS9IHEbPo9s"
      },
      "source": [
        "import pandas as pd \n",
        "import cv2                 \n",
        "import numpy as np         \n",
        "import os                  \n",
        "from random import shuffle\n",
        "from tqdm import tqdm  \n",
        "import scipy\n",
        "import skimage\n",
        "from skimage.transform import resize"
      ],
      "execution_count": null,
      "outputs": []
    },
    {
      "cell_type": "code",
      "metadata": {
        "id": "DerZB_VWPvM1"
      },
      "source": [
        "TRAIN_DIR = \"/content/chest_xray/chest_xray/train/\"\n",
        "TEST_DIR =  \"/content/chest_xray/chest_xray/test/\""
      ],
      "execution_count": null,
      "outputs": []
    },
    {
      "cell_type": "code",
      "metadata": {
        "id": "T_oCbh23P-qG"
      },
      "source": [
        "def get_label(Dir):\n",
        "    for nextdir in os.listdir(Dir):\n",
        "        if not nextdir.startswith('.'):\n",
        "            if nextdir in ['NORMAL']:\n",
        "                label = 0\n",
        "            elif nextdir in ['PNEUMONIA']:\n",
        "                label = 1\n",
        "            else:\n",
        "                label = 2\n",
        "    return nextdir, label"
      ],
      "execution_count": null,
      "outputs": []
    },
    {
      "cell_type": "code",
      "metadata": {
        "id": "zDfmZiMwQCRc"
      },
      "source": [
        "def preprocessing_data(Dir):\n",
        "    X = []\n",
        "    y = []\n",
        "    \n",
        "    for nextdir in os.listdir(Dir):\n",
        "        nextdir, label = get_label(Dir)\n",
        "        temp = Dir + nextdir\n",
        "        \n",
        "        for image_filename in tqdm(os.listdir(temp)):\n",
        "            path = os.path.join(temp + '/' , image_filename)\n",
        "            img = cv2.imread(path,cv2.IMREAD_GRAYSCALE)\n",
        "            if img is not None:\n",
        "                img = skimage.transform.resize(img, (224, 224, 3))\n",
        "                img = np.asarray(img)\n",
        "                X.append(img)\n",
        "                y.append(label)\n",
        "            \n",
        "    X = np.asarray(X)\n",
        "    y = np.asarray(y)\n",
        "    \n",
        "    return X,y"
      ],
      "execution_count": null,
      "outputs": []
    },
    {
      "cell_type": "code",
      "metadata": {
        "id": "D_tBRvTpQHgm"
      },
      "source": [
        "def get_data(Dir):\n",
        "    X = []\n",
        "    y = []\n",
        "    for nextDir in os.listdir(Dir):\n",
        "        if not nextDir.startswith('.'):\n",
        "            if nextDir in ['NORMAL']:\n",
        "                label = 0\n",
        "            elif nextDir in ['PNEUMONIA']:\n",
        "                label = 1\n",
        "            else:\n",
        "                label = 2\n",
        "                \n",
        "            temp = Dir + nextDir\n",
        "                \n",
        "            for file in tqdm(os.listdir(temp)):\n",
        "                img = cv2.imread(temp + '/' + file)\n",
        "                if img is not None:\n",
        "                    img = skimage.transform.resize(img, (224, 224, 3))\n",
        "                    #img_file = scipy.misc.imresize(arr=img_file, size=(150, 150, 3))\n",
        "                    img = np.asarray(img)\n",
        "                    X.append(img)\n",
        "                    y.append(label)\n",
        "                    \n",
        "    X = np.asarray(X)\n",
        "    y = np.asarray(y)\n",
        "    return X,y"
      ],
      "execution_count": null,
      "outputs": []
    },
    {
      "cell_type": "code",
      "metadata": {
        "id": "qrk5nbhNQqLs"
      },
      "source": [
        "X_test , y_test = get_data(TEST_DIR)"
      ],
      "execution_count": null,
      "outputs": []
    },
    {
      "cell_type": "code",
      "metadata": {
        "id": "mONxIeuGRnzz"
      },
      "source": [
        "from keras.utils.np_utils import to_categorical\n",
        "y_test = to_categorical(y_test, 2)\n"
      ],
      "execution_count": null,
      "outputs": []
    },
    {
      "cell_type": "code",
      "metadata": {
        "colab": {
          "base_uri": "https://localhost:8080/"
        },
        "id": "dwhYVDTBRyzl",
        "outputId": "9534c931-ff84-4a6c-82c5-0f9755e38ddb"
      },
      "source": [
        "print(y_test.shape)"
      ],
      "execution_count": null,
      "outputs": [
        {
          "output_type": "stream",
          "text": [
            "(624, 2)\n"
          ],
          "name": "stdout"
        }
      ]
    },
    {
      "cell_type": "code",
      "metadata": {
        "id": "NjTjXVpGR36-"
      },
      "source": [
        "from sklearn.metrics import confusion_matrix\n",
        "pred = model.predict(X_test)\n",
        "pred = np.argmax(pred,axis = 1) \n",
        "y_true = np.argmax(y_test,axis = 1)"
      ],
      "execution_count": null,
      "outputs": []
    },
    {
      "cell_type": "code",
      "metadata": {
        "id": "TbStCFuASFHX"
      },
      "source": [
        "cm = confusion_matrix(y_true, pred)\n",
        "from mlxtend.plotting import plot_confusion_matrix\n",
        "fig, ax = plot_confusion_matrix(conf_mat=cm ,  figsize=(5, 5))\n",
        "plt.show()"
      ],
      "execution_count": null,
      "outputs": []
    },
    {
      "cell_type": "code",
      "metadata": {
        "id": "bxujFAGp7nqn"
      },
      "source": [
        "print('True Positive  (TP) = ', cm[0][0])\n",
        "print('False Positive (FP) = ', cm[0][1])\n",
        "print('False Negative (FN) = ', cm[1][0])\n",
        "print('True Negative  (TN) = ', cm[1][1])\n",
        "print('-'*26)"
      ],
      "execution_count": null,
      "outputs": []
    },
    {
      "cell_type": "code",
      "metadata": {
        "id": "Ehw_Theew4ZO"
      },
      "source": [
        "if (cm[0][0] + cm[0][1])!=0 and (cm[0][0], cm[1][0])!=0:\n",
        "      accuracy=  round((cm[1][1] + cm[0][0]) / (cm[0][0] + cm[1][0] + cm[0][1] + cm[1][1])*100, 2)\n",
        "      precision= round((cm[1][1] / (cm[1][1] + cm[0][1]))*100, 2) \n",
        "      recall   = round((cm[1][1] / (cm[1][1] + cm[1][0]))*100, 2) \n",
        "      f1_score = round(2*((precision*recall)/(precision+recall)), 2)  \n",
        "      print(f'accuracy Score: {accuracy}%')     \n",
        "      print(f'Precision Score: {precision}%')\n",
        "      print(f'Recall Score: {recall}%')\n",
        "      print(f'F1 Score: {f1_score}%')\n",
        "      print('='*50) \n",
        "      print('\\n')"
      ],
      "execution_count": null,
      "outputs": []
    }
  ]
}