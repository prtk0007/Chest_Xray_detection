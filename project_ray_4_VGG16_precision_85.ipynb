{
  "nbformat": 4,
  "nbformat_minor": 0,
  "metadata": {
    "colab": {
      "name": "project_ray_4_VGG16.ipynb",
      "provenance": [],
      "collapsed_sections": [],
      "mount_file_id": "https://github.com/prtk0007/Chest_Xray_detection/blob/main/project_ray_4_VGG16.ipynb",
      "authorship_tag": "ABX9TyNKzpu9ncPk/tJPiC+3nvbK",
      "include_colab_link": true
    },
    "kernelspec": {
      "name": "python3",
      "display_name": "Python 3"
    },
    "accelerator": "GPU"
  },
  "cells": [
    {
      "cell_type": "markdown",
      "metadata": {
        "id": "view-in-github",
        "colab_type": "text"
      },
      "source": [
        "<a href=\"https://colab.research.google.com/github/prtk0007/Chest_Xray_detection/blob/main/project_ray_4_VGG16_precision_85.ipynb\" target=\"_parent\"><img src=\"https://colab.research.google.com/assets/colab-badge.svg\" alt=\"Open In Colab\"/></a>"
      ]
    },
    {
      "cell_type": "code",
      "metadata": {
        "id": "R1XmqXRerEIn"
      },
      "source": [
        "import os\n",
        "os.environ['KAGGLE_CONFIG_DIR'] = \"/content\""
      ],
      "execution_count": 1,
      "outputs": []
    },
    {
      "cell_type": "code",
      "metadata": {
        "id": "XSfykfCbr5DU",
        "colab": {
          "base_uri": "https://localhost:8080/"
        },
        "outputId": "8521d391-a863-4a86-8437-279274a14c72"
      },
      "source": [
        "!kaggle datasets download -d paultimothymooney/chest-xray-pneumonia"
      ],
      "execution_count": 2,
      "outputs": [
        {
          "output_type": "stream",
          "text": [
            "Warning: Your Kaggle API key is readable by other users on this system! To fix this, you can run 'chmod 600 /content/kaggle.json'\n",
            "Downloading chest-xray-pneumonia.zip to /content\n",
            "100% 2.29G/2.29G [00:30<00:00, 19.2MB/s]\n",
            "\n"
          ],
          "name": "stdout"
        }
      ]
    },
    {
      "cell_type": "code",
      "metadata": {
        "id": "TTC3HUXZsFhc"
      },
      "source": [
        "!unzip \\*.zip"
      ],
      "execution_count": null,
      "outputs": []
    },
    {
      "cell_type": "code",
      "metadata": {
        "id": "0FLVJjX6sVgW"
      },
      "source": [
        "from keras.layers import Input, Lambda, Dense, Flatten\n",
        "from keras.models import Model\n",
        "#from keras.applications.resnet50 import ResNet50\n",
        "from keras.applications.vgg16 import VGG16\n",
        "from keras.applications.vgg16 import preprocess_input\n",
        "from keras.preprocessing import image\n",
        "from keras.preprocessing.image import ImageDataGenerator\n",
        "from keras.models import Sequential\n",
        "import numpy as np\n",
        "from glob import glob\n",
        "import matplotlib.pyplot as plt"
      ],
      "execution_count": 4,
      "outputs": []
    },
    {
      "cell_type": "code",
      "metadata": {
        "id": "qAt3Ie4Tse0-"
      },
      "source": [
        "IMAGE_SIZE = [224, 224]\n",
        "\n",
        "train_path = '/content/Kaggle/chest_xray/chest_xray/train'\n",
        "valid_path = '/content/Kaggle/chest_xray/chest_xray/test'"
      ],
      "execution_count": 5,
      "outputs": []
    },
    {
      "cell_type": "code",
      "metadata": {
        "id": "6hJJpqwltHC7",
        "outputId": "a590d224-a572-4067-dfe5-ba0a57d696b8",
        "colab": {
          "base_uri": "https://localhost:8080/"
        }
      },
      "source": [
        "vgg = VGG16(input_shape=IMAGE_SIZE + [3], weights='imagenet', include_top=False)"
      ],
      "execution_count": 6,
      "outputs": [
        {
          "output_type": "stream",
          "text": [
            "Downloading data from https://storage.googleapis.com/tensorflow/keras-applications/vgg16/vgg16_weights_tf_dim_ordering_tf_kernels_notop.h5\n",
            "58892288/58889256 [==============================] - 0s 0us/step\n"
          ],
          "name": "stdout"
        }
      ]
    },
    {
      "cell_type": "code",
      "metadata": {
        "id": "U4GpRNCstS6x"
      },
      "source": [
        "for layer in vgg.layers:\n",
        "    layer.trainable = False"
      ],
      "execution_count": 7,
      "outputs": []
    },
    {
      "cell_type": "code",
      "metadata": {
        "id": "R3ak0QFztZxY",
        "colab": {
          "base_uri": "https://localhost:8080/"
        },
        "outputId": "838bbaac-b568-4f03-b4b1-0116b018d6ee"
      },
      "source": [
        "folders = glob('/content/Kaggle/chest_xray/chest_xray/train/*')\n",
        "folders"
      ],
      "execution_count": null,
      "outputs": [
        {
          "output_type": "execute_result",
          "data": {
            "text/plain": [
              "['/content/Kaggle/chest_xray/chest_xray/train/NORMAL',\n",
              " '/content/Kaggle/chest_xray/chest_xray/train/PNEUMONIA']"
            ]
          },
          "metadata": {
            "tags": []
          },
          "execution_count": 94
        }
      ]
    },
    {
      "cell_type": "code",
      "metadata": {
        "id": "cEX5qhjsuDw9"
      },
      "source": [
        "from keras.layers import Dropout\n",
        "x = Flatten(name='flatten')(vgg.output)\n",
        "x = Dense(512, activation='relu', name='fc1')(x)\n",
        "x = Dropout(0.3, name='drop1')(x)\n",
        "x = Dense(256, activation='relu', name='fc2')(x)\n",
        "x = Dropout(0.3, name='drop2')(x)\n",
        "x = Dense(2, activation='softmax', name='predictions')(x)"
      ],
      "execution_count": 8,
      "outputs": []
    },
    {
      "cell_type": "code",
      "metadata": {
        "id": "83A5r3PXuhdI"
      },
      "source": [
        "model = Model(inputs=vgg.input, outputs=x)"
      ],
      "execution_count": 9,
      "outputs": []
    },
    {
      "cell_type": "code",
      "metadata": {
        "id": "Gov3b1TduWV6",
        "colab": {
          "base_uri": "https://localhost:8080/"
        },
        "outputId": "34a0a3df-6563-4463-dafa-e8c282df912d"
      },
      "source": [
        "model.summary()"
      ],
      "execution_count": 10,
      "outputs": [
        {
          "output_type": "stream",
          "text": [
            "Model: \"model\"\n",
            "_________________________________________________________________\n",
            "Layer (type)                 Output Shape              Param #   \n",
            "=================================================================\n",
            "input_1 (InputLayer)         [(None, 224, 224, 3)]     0         \n",
            "_________________________________________________________________\n",
            "block1_conv1 (Conv2D)        (None, 224, 224, 64)      1792      \n",
            "_________________________________________________________________\n",
            "block1_conv2 (Conv2D)        (None, 224, 224, 64)      36928     \n",
            "_________________________________________________________________\n",
            "block1_pool (MaxPooling2D)   (None, 112, 112, 64)      0         \n",
            "_________________________________________________________________\n",
            "block2_conv1 (Conv2D)        (None, 112, 112, 128)     73856     \n",
            "_________________________________________________________________\n",
            "block2_conv2 (Conv2D)        (None, 112, 112, 128)     147584    \n",
            "_________________________________________________________________\n",
            "block2_pool (MaxPooling2D)   (None, 56, 56, 128)       0         \n",
            "_________________________________________________________________\n",
            "block3_conv1 (Conv2D)        (None, 56, 56, 256)       295168    \n",
            "_________________________________________________________________\n",
            "block3_conv2 (Conv2D)        (None, 56, 56, 256)       590080    \n",
            "_________________________________________________________________\n",
            "block3_conv3 (Conv2D)        (None, 56, 56, 256)       590080    \n",
            "_________________________________________________________________\n",
            "block3_pool (MaxPooling2D)   (None, 28, 28, 256)       0         \n",
            "_________________________________________________________________\n",
            "block4_conv1 (Conv2D)        (None, 28, 28, 512)       1180160   \n",
            "_________________________________________________________________\n",
            "block4_conv2 (Conv2D)        (None, 28, 28, 512)       2359808   \n",
            "_________________________________________________________________\n",
            "block4_conv3 (Conv2D)        (None, 28, 28, 512)       2359808   \n",
            "_________________________________________________________________\n",
            "block4_pool (MaxPooling2D)   (None, 14, 14, 512)       0         \n",
            "_________________________________________________________________\n",
            "block5_conv1 (Conv2D)        (None, 14, 14, 512)       2359808   \n",
            "_________________________________________________________________\n",
            "block5_conv2 (Conv2D)        (None, 14, 14, 512)       2359808   \n",
            "_________________________________________________________________\n",
            "block5_conv3 (Conv2D)        (None, 14, 14, 512)       2359808   \n",
            "_________________________________________________________________\n",
            "block5_pool (MaxPooling2D)   (None, 7, 7, 512)         0         \n",
            "_________________________________________________________________\n",
            "flatten (Flatten)            (None, 25088)             0         \n",
            "_________________________________________________________________\n",
            "fc1 (Dense)                  (None, 512)               12845568  \n",
            "_________________________________________________________________\n",
            "drop1 (Dropout)              (None, 512)               0         \n",
            "_________________________________________________________________\n",
            "fc2 (Dense)                  (None, 256)               131328    \n",
            "_________________________________________________________________\n",
            "drop2 (Dropout)              (None, 256)               0         \n",
            "_________________________________________________________________\n",
            "predictions (Dense)          (None, 2)                 514       \n",
            "=================================================================\n",
            "Total params: 27,692,098\n",
            "Trainable params: 12,977,410\n",
            "Non-trainable params: 14,714,688\n",
            "_________________________________________________________________\n"
          ],
          "name": "stdout"
        }
      ]
    },
    {
      "cell_type": "code",
      "metadata": {
        "id": "wYkP0mG-u38a"
      },
      "source": [
        "from keras.optimizers import Adam\n",
        "opt = Adam(lr=0.0001)\n",
        "model.compile(\n",
        "  loss='categorical_crossentropy',\n",
        "  optimizer= opt,\n",
        "  metrics=['accuracy']\n",
        ")"
      ],
      "execution_count": 11,
      "outputs": []
    },
    {
      "cell_type": "code",
      "metadata": {
        "id": "oAqr9EjUvAkI"
      },
      "source": [
        "train_datagen = ImageDataGenerator(rescale = 1./255,\n",
        "                                   shear_range = 0.2,\n",
        "                                   zoom_range = 0.2,\n",
        "                                   horizontal_flip = True)\n",
        "\n",
        "test_datagen = ImageDataGenerator(rescale = 1./255)\n",
        "val_datagen = ImageDataGenerator(rescale = 1./255)\n"
      ],
      "execution_count": 12,
      "outputs": []
    },
    {
      "cell_type": "code",
      "metadata": {
        "id": "LlvgPdLavIvY",
        "colab": {
          "base_uri": "https://localhost:8080/"
        },
        "outputId": "318b2479-a33e-4a50-eeaa-c5d828c782bf"
      },
      "source": [
        "training_set = train_datagen.flow_from_directory('/content/chest_xray/chest_xray/train',\n",
        "                                                 target_size = (224, 224),\n",
        "                                                 batch_size = 64,\n",
        "                                                 class_mode = 'categorical')"
      ],
      "execution_count": 14,
      "outputs": [
        {
          "output_type": "stream",
          "text": [
            "Found 5216 images belonging to 2 classes.\n"
          ],
          "name": "stdout"
        }
      ]
    },
    {
      "cell_type": "code",
      "metadata": {
        "id": "j9XIBSmYvWmF",
        "colab": {
          "base_uri": "https://localhost:8080/"
        },
        "outputId": "fbda2ae1-dfb8-4296-97e3-b4285adcc065"
      },
      "source": [
        "test_set = test_datagen.flow_from_directory('/content/chest_xray/chest_xray/test',\n",
        "                                            target_size = (224, 224),\n",
        "                                            batch_size = 64,\n",
        "                                            class_mode = 'categorical')"
      ],
      "execution_count": 15,
      "outputs": [
        {
          "output_type": "stream",
          "text": [
            "Found 624 images belonging to 2 classes.\n"
          ],
          "name": "stdout"
        }
      ]
    },
    {
      "cell_type": "code",
      "metadata": {
        "colab": {
          "base_uri": "https://localhost:8080/"
        },
        "id": "fEuLlirfLk4W",
        "outputId": "4aace973-e71b-4d10-d26f-4c77d0a05efc"
      },
      "source": [
        "val_set = val_datagen.flow_from_directory('/content/chest_xray/chest_xray/val',\n",
        "                                            target_size = (224, 224),\n",
        "                                            class_mode = 'categorical')"
      ],
      "execution_count": 16,
      "outputs": [
        {
          "output_type": "stream",
          "text": [
            "Found 16 images belonging to 2 classes.\n"
          ],
          "name": "stdout"
        }
      ]
    },
    {
      "cell_type": "code",
      "metadata": {
        "id": "Pti4L_tUvt9L",
        "colab": {
          "base_uri": "https://localhost:8080/"
        },
        "outputId": "47182ae0-2bec-46cf-bfb3-1955e9e7c936"
      },
      "source": [
        "r = model.fit_generator(\n",
        "  training_set,\n",
        "  validation_data=test_set,\n",
        "  epochs=20,\n",
        "  steps_per_epoch=len(training_set),\n",
        "  validation_steps=len(test_set)\n",
        ")"
      ],
      "execution_count": 17,
      "outputs": [
        {
          "output_type": "stream",
          "text": [
            "/usr/local/lib/python3.6/dist-packages/tensorflow/python/keras/engine/training.py:1844: UserWarning: `Model.fit_generator` is deprecated and will be removed in a future version. Please use `Model.fit`, which supports generators.\n",
            "  warnings.warn('`Model.fit_generator` is deprecated and '\n"
          ],
          "name": "stderr"
        },
        {
          "output_type": "stream",
          "text": [
            "Epoch 1/20\n",
            "82/82 [==============================] - 116s 1s/step - loss: 0.3272 - accuracy: 0.8544 - val_loss: 0.3804 - val_accuracy: 0.8622\n",
            "Epoch 2/20\n",
            "82/82 [==============================] - 105s 1s/step - loss: 0.1590 - accuracy: 0.9378 - val_loss: 0.2365 - val_accuracy: 0.9135\n",
            "Epoch 3/20\n",
            "82/82 [==============================] - 105s 1s/step - loss: 0.1342 - accuracy: 0.9491 - val_loss: 0.3085 - val_accuracy: 0.9006\n",
            "Epoch 4/20\n",
            "82/82 [==============================] - 103s 1s/step - loss: 0.1134 - accuracy: 0.9562 - val_loss: 0.2767 - val_accuracy: 0.9071\n",
            "Epoch 5/20\n",
            "82/82 [==============================] - 104s 1s/step - loss: 0.1288 - accuracy: 0.9537 - val_loss: 0.2516 - val_accuracy: 0.9183\n",
            "Epoch 6/20\n",
            "82/82 [==============================] - 104s 1s/step - loss: 0.0975 - accuracy: 0.9631 - val_loss: 0.2434 - val_accuracy: 0.9199\n",
            "Epoch 7/20\n",
            "82/82 [==============================] - 103s 1s/step - loss: 0.0936 - accuracy: 0.9639 - val_loss: 0.2868 - val_accuracy: 0.9054\n",
            "Epoch 8/20\n",
            "82/82 [==============================] - 104s 1s/step - loss: 0.0912 - accuracy: 0.9677 - val_loss: 0.2670 - val_accuracy: 0.9183\n",
            "Epoch 9/20\n",
            "82/82 [==============================] - 104s 1s/step - loss: 0.0818 - accuracy: 0.9660 - val_loss: 0.2563 - val_accuracy: 0.9183\n",
            "Epoch 10/20\n",
            "82/82 [==============================] - 104s 1s/step - loss: 0.0759 - accuracy: 0.9703 - val_loss: 0.2730 - val_accuracy: 0.9167\n",
            "Epoch 11/20\n",
            "82/82 [==============================] - 105s 1s/step - loss: 0.0706 - accuracy: 0.9716 - val_loss: 0.2758 - val_accuracy: 0.9167\n",
            "Epoch 12/20\n",
            "82/82 [==============================] - 104s 1s/step - loss: 0.0701 - accuracy: 0.9745 - val_loss: 0.3504 - val_accuracy: 0.9071\n",
            "Epoch 13/20\n",
            "82/82 [==============================] - 104s 1s/step - loss: 0.0762 - accuracy: 0.9709 - val_loss: 0.2928 - val_accuracy: 0.9103\n",
            "Epoch 14/20\n",
            "82/82 [==============================] - 103s 1s/step - loss: 0.0755 - accuracy: 0.9728 - val_loss: 0.3038 - val_accuracy: 0.9167\n",
            "Epoch 15/20\n",
            "82/82 [==============================] - 104s 1s/step - loss: 0.0589 - accuracy: 0.9793 - val_loss: 0.3295 - val_accuracy: 0.9022\n",
            "Epoch 16/20\n",
            "82/82 [==============================] - 104s 1s/step - loss: 0.0726 - accuracy: 0.9732 - val_loss: 0.2495 - val_accuracy: 0.9199\n",
            "Epoch 17/20\n",
            "82/82 [==============================] - 106s 1s/step - loss: 0.0722 - accuracy: 0.9699 - val_loss: 0.2891 - val_accuracy: 0.9103\n",
            "Epoch 18/20\n",
            "82/82 [==============================] - 104s 1s/step - loss: 0.0595 - accuracy: 0.9794 - val_loss: 0.2993 - val_accuracy: 0.9135\n",
            "Epoch 19/20\n",
            "82/82 [==============================] - 104s 1s/step - loss: 0.0681 - accuracy: 0.9757 - val_loss: 0.3022 - val_accuracy: 0.8974\n",
            "Epoch 20/20\n",
            "82/82 [==============================] - 105s 1s/step - loss: 0.0513 - accuracy: 0.9837 - val_loss: 0.2948 - val_accuracy: 0.9135\n"
          ],
          "name": "stdout"
        }
      ]
    },
    {
      "cell_type": "code",
      "metadata": {
        "id": "pIPgxP6u6XsW",
        "colab": {
          "base_uri": "https://localhost:8080/",
          "height": 530
        },
        "outputId": "686b43f1-8b9e-42a0-99d1-6abf24384700"
      },
      "source": [
        "plt.plot(r.history['loss'], label='train loss')\n",
        "plt.plot(r.history['val_loss'], label='val loss')\n",
        "plt.legend()\n",
        "plt.show()\n",
        "plt.savefig('LossVal_loss')\n",
        "\n",
        "# plot the accuracy\n",
        "plt.plot(r.history['accuracy'], label='train acc')\n",
        "plt.plot(r.history['val_accuracy'], label='val acc')\n",
        "plt.legend()\n",
        "plt.show()\n",
        "plt.savefig('AccVal_acc')"
      ],
      "execution_count": 18,
      "outputs": [
        {
          "output_type": "display_data",
          "data": {
            "image/png": "[encoded data removed]",
            "text/plain": [
              "<Figure size 432x288 with 1 Axes>"
            ]
          },
          "metadata": {
            "tags": [],
            "needs_background": "light"
          }
        },
        {
          "output_type": "display_data",
          "data": {
            "image/png": "[encoded data removed]",
            "text/plain": [
              "<Figure size 432x288 with 1 Axes>"
            ]
          },
          "metadata": {
            "tags": [],
            "needs_background": "light"
          }
        },
        {
          "output_type": "display_data",
          "data": {
            "text/plain": [
              "<Figure size 432x288 with 0 Axes>"
            ]
          },
          "metadata": {
            "tags": []
          }
        }
      ]
    },
    {
      "cell_type": "code",
      "metadata": {
        "colab": {
          "base_uri": "https://localhost:8080/"
        },
        "id": "6HLO1u1gK3g5",
        "outputId": "c76a2407-2f08-41a3-8731-f2f0fd7f0c8e"
      },
      "source": [
        "model.evaluate(training_set)"
      ],
      "execution_count": 20,
      "outputs": [
        {
          "output_type": "stream",
          "text": [
            "82/82 [==============================] - 98s 1s/step - loss: 0.0405 - accuracy: 0.9864\n"
          ],
          "name": "stdout"
        },
        {
          "output_type": "execute_result",
          "data": {
            "text/plain": [
              "[0.04048258066177368, 0.9863880276679993]"
            ]
          },
          "metadata": {
            "tags": []
          },
          "execution_count": 20
        }
      ]
    },
    {
      "cell_type": "code",
      "metadata": {
        "colab": {
          "base_uri": "https://localhost:8080/"
        },
        "id": "frHhO1hILV8h",
        "outputId": "b981b7b2-23bd-4abf-ac4c-57d02ddb223f"
      },
      "source": [
        "model.evaluate(test_set)"
      ],
      "execution_count": 19,
      "outputs": [
        {
          "output_type": "stream",
          "text": [
            "10/10 [==============================] - 6s 573ms/step - loss: 0.2948 - accuracy: 0.9135\n"
          ],
          "name": "stdout"
        },
        {
          "output_type": "execute_result",
          "data": {
            "text/plain": [
              "[0.29475900530815125, 0.9134615659713745]"
            ]
          },
          "metadata": {
            "tags": []
          },
          "execution_count": 19
        }
      ]
    },
    {
      "cell_type": "code",
      "metadata": {
        "id": "LzcyDe3dBvuO",
        "outputId": "b439b17f-cf7c-4f8e-e444-194add8d5d79",
        "colab": {
          "base_uri": "https://localhost:8080/"
        }
      },
      "source": [
        "%cd /content/drive/MyDrive/Kaggle\r\n",
        "%ls"
      ],
      "execution_count": 42,
      "outputs": [
        {
          "output_type": "stream",
          "text": [
            "/content/drive/MyDrive/Kaggle\n",
            "AccVal_acc.png  Inceptv3_xray.h5  LossVal_loss.png  model_vgg19.h5\n",
            "\u001b[0m\u001b[01;34mchest_xray\u001b[0m/     kaggle.json       model_vgg16.h5\n"
          ],
          "name": "stdout"
        }
      ]
    },
    {
      "cell_type": "code",
      "metadata": {
        "id": "m2GpSWrq7fMq"
      },
      "source": [
        "\n",
        "from keras.models import load_model\n",
        "\n",
        "model.save('model_vgg16_Precision_85.h5')"
      ],
      "execution_count": 43,
      "outputs": []
    },
    {
      "cell_type": "code",
      "metadata": {
        "id": "RVJAlsf972jr",
        "colab": {
          "base_uri": "https://localhost:8080/"
        },
        "outputId": "3a471aef-634a-4635-c20a-d09c172d7d10"
      },
      "source": [
        "import keras.backend as K\n",
        "print(K.eval(model.optimizer.lr))"
      ],
      "execution_count": null,
      "outputs": [
        {
          "output_type": "stream",
          "text": [
            "1e-04\n"
          ],
          "name": "stdout"
        }
      ]
    },
    {
      "cell_type": "code",
      "metadata": {
        "id": "hcbEltED9OaV"
      },
      "source": [
        "img = image.load_img('/content/Kaggle/chest_xray/val/NORMAL/NORMAL2-IM-1436-0001.jpeg', target_size=(224,224))\n",
        "x=image.img_to_array(img)\n",
        "x=np.expand_dims(x, axis=0)\n",
        "img_data = preprocess_input(x)\n",
        "classes = model.predict(img_data)"
      ],
      "execution_count": null,
      "outputs": []
    },
    {
      "cell_type": "code",
      "metadata": {
        "id": "1PW8gnNl-VZU",
        "colab": {
          "base_uri": "https://localhost:8080/"
        },
        "outputId": "1d567d3e-87e8-4657-b4b6-f5ed602f05c6"
      },
      "source": [
        "classes"
      ],
      "execution_count": null,
      "outputs": [
        {
          "output_type": "execute_result",
          "data": {
            "text/plain": [
              "array([[1., 0.]], dtype=float32)"
            ]
          },
          "metadata": {
            "tags": []
          },
          "execution_count": 121
        }
      ]
    },
    {
      "cell_type": "code",
      "metadata": {
        "id": "p6bajnktOCOv"
      },
      "source": [
        "import pandas as pd \n",
        "import cv2                 \n",
        "import numpy as np         \n",
        "import os                  \n",
        "from random import shuffle\n",
        "from tqdm import tqdm  \n",
        "import scipy\n",
        "import skimage\n",
        "from skimage.transform import resize"
      ],
      "execution_count": 21,
      "outputs": []
    },
    {
      "cell_type": "code",
      "metadata": {
        "id": "DerZB_VWPvM1"
      },
      "source": [
        "TRAIN_DIR = \"/content/chest_xray/chest_xray/train/\"\n",
        "TEST_DIR =  \"/content/chest_xray/chest_xray/test/\""
      ],
      "execution_count": 22,
      "outputs": []
    },
    {
      "cell_type": "code",
      "metadata": {
        "id": "T_oCbh23P-qG"
      },
      "source": [
        "def get_label(Dir):\n",
        "    for nextdir in os.listdir(Dir):\n",
        "        if not nextdir.startswith('.'):\n",
        "            if nextdir in ['NORMAL']:\n",
        "                label = 0\n",
        "            elif nextdir in ['PNEUMONIA']:\n",
        "                label = 1\n",
        "            else:\n",
        "                label = 2\n",
        "    return nextdir, label"
      ],
      "execution_count": 23,
      "outputs": []
    },
    {
      "cell_type": "code",
      "metadata": {
        "id": "zDfmZiMwQCRc"
      },
      "source": [
        "def preprocessing_data(Dir):\n",
        "    X = []\n",
        "    y = []\n",
        "    \n",
        "    for nextdir in os.listdir(Dir):\n",
        "        nextdir, label = get_label(Dir)\n",
        "        temp = Dir + nextdir\n",
        "        \n",
        "        for image_filename in tqdm(os.listdir(temp)):\n",
        "            path = os.path.join(temp + '/' , image_filename)\n",
        "            img = cv2.imread(path,cv2.IMREAD_GRAYSCALE)\n",
        "            if img is not None:\n",
        "                img = skimage.transform.resize(img, (224, 224, 3))\n",
        "                img = np.asarray(img)\n",
        "                X.append(img)\n",
        "                y.append(label)\n",
        "            \n",
        "    X = np.asarray(X)\n",
        "    y = np.asarray(y)\n",
        "    \n",
        "    return X,y"
      ],
      "execution_count": 24,
      "outputs": []
    },
    {
      "cell_type": "code",
      "metadata": {
        "id": "D_tBRvTpQHgm"
      },
      "source": [
        "def get_data(Dir):\n",
        "    X = []\n",
        "    y = []\n",
        "    for nextDir in os.listdir(Dir):\n",
        "        if not nextDir.startswith('.'):\n",
        "            if nextDir in ['NORMAL']:\n",
        "                label = 0\n",
        "            elif nextDir in ['PNEUMONIA']:\n",
        "                label = 1\n",
        "            else:\n",
        "                label = 2\n",
        "                \n",
        "            temp = Dir + nextDir\n",
        "                \n",
        "            for file in tqdm(os.listdir(temp)):\n",
        "                img = cv2.imread(temp + '/' + file)\n",
        "                if img is not None:\n",
        "                    img = skimage.transform.resize(img, (224, 224, 3))\n",
        "                    #img_file = scipy.misc.imresize(arr=img_file, size=(150, 150, 3))\n",
        "                    img = np.asarray(img)\n",
        "                    X.append(img)\n",
        "                    y.append(label)\n",
        "                    \n",
        "    X = np.asarray(X)\n",
        "    y = np.asarray(y)\n",
        "    return X,y"
      ],
      "execution_count": 25,
      "outputs": []
    },
    {
      "cell_type": "code",
      "metadata": {
        "colab": {
          "base_uri": "https://localhost:8080/"
        },
        "id": "qrk5nbhNQqLs",
        "outputId": "20858c17-2f57-4908-f083-14fc54500691"
      },
      "source": [
        "X_test , y_test = get_data(TEST_DIR)"
      ],
      "execution_count": 26,
      "outputs": [
        {
          "output_type": "stream",
          "text": [
            "100%|██████████| 234/234 [01:22<00:00,  2.82it/s]\n",
            "100%|██████████| 390/390 [00:41<00:00,  9.42it/s]\n"
          ],
          "name": "stderr"
        }
      ]
    },
    {
      "cell_type": "code",
      "metadata": {
        "id": "mONxIeuGRnzz"
      },
      "source": [
        "from keras.utils.np_utils import to_categorical\n",
        "y_test = to_categorical(y_test, 2)\n"
      ],
      "execution_count": 27,
      "outputs": []
    },
    {
      "cell_type": "code",
      "metadata": {
        "colab": {
          "base_uri": "https://localhost:8080/"
        },
        "id": "dwhYVDTBRyzl",
        "outputId": "c67b60f3-6981-4dc5-b99d-b35c7f62600a"
      },
      "source": [
        "print(y_test.shape)"
      ],
      "execution_count": null,
      "outputs": [
        {
          "output_type": "stream",
          "text": [
            "(624, 2)\n"
          ],
          "name": "stdout"
        }
      ]
    },
    {
      "cell_type": "code",
      "metadata": {
        "id": "NjTjXVpGR36-"
      },
      "source": [
        "from sklearn.metrics import confusion_matrix\n",
        "pred = model.predict(X_test)\n",
        "pred = np.argmax(pred,axis = 1) \n",
        "y_true = np.argmax(y_test,axis = 1)"
      ],
      "execution_count": 29,
      "outputs": []
    },
    {
      "cell_type": "code",
      "metadata": {
        "colab": {
          "base_uri": "https://localhost:8080/",
          "height": 334
        },
        "id": "TbStCFuASFHX",
        "outputId": "6a8b08dc-152e-4d0b-9a1d-e5655095eec7"
      },
      "source": [
        "cm = confusion_matrix(y_true, pred)\n",
        "from mlxtend.plotting import plot_confusion_matrix\n",
        "fig, ax = plot_confusion_matrix(conf_mat=cm ,  figsize=(5, 5))\n",
        "plt.show()"
      ],
      "execution_count": 30,
      "outputs": [
        {
          "output_type": "display_data",
          "data": {
            "image/png": "[encoded data removed]",
            "text/plain": [
              "<Figure size 360x360 with 1 Axes>"
            ]
          },
          "metadata": {
            "tags": [],
            "needs_background": "light"
          }
        }
      ]
    },
    {
      "cell_type": "code",
      "metadata": {
        "colab": {
          "base_uri": "https://localhost:8080/"
        },
        "id": "CdhFnQXmwrzv",
        "outputId": "2f99f7ac-3cf3-4ff5-b33d-e3fc86d58a83"
      },
      "source": [
        "print('True Positive  (TP) = ', cm[1][1])\n",
        "print('False Positive (FP) = ', cm[0][1])\n",
        "print('False Negative (FN) = ', cm[1][0])\n",
        "print('True Negative  (TN) = ', cm[0][0])\n",
        "print('-'*26)"
      ],
      "execution_count": 31,
      "outputs": [
        {
          "output_type": "stream",
          "text": [
            "True Positive  (TP) =  385\n",
            "False Positive (FP) =  67\n",
            "False Negative (FN) =  5\n",
            "True Negative  (TN) =  167\n",
            "--------------------------\n"
          ],
          "name": "stdout"
        }
      ]
    },
    {
      "cell_type": "code",
      "metadata": {
        "colab": {
          "base_uri": "https://localhost:8080/"
        },
        "id": "Ehw_Theew4ZO",
        "outputId": "438a0cdc-013c-4bf1-ac5b-e8e55b99ff61"
      },
      "source": [
        "if (cm[0][0] + cm[0][1])!=0 and (cm[0][0], cm[1][0])!=0:\n",
        "      accuracy=  round((cm[1][1] + cm[0][0]) / (cm[0][0] + cm[1][0] + cm[0][1] + cm[1][1])*100, 2)\n",
        "      precision= round((cm[1][1] / (cm[1][1] + cm[0][1]))*100, 2) \n",
        "      recall   = round((cm[1][1] / (cm[1][1] + cm[1][0]))*100, 2) \n",
        "      f1_score = round(2*((precision*recall)/(precision+recall)), 2)  \n",
        "      print(f'accuracy Score: {accuracy}%')     \n",
        "      print(f'Precision Score: {precision}%')\n",
        "      print(f'Recall Score: {recall}%')\n",
        "      print(f'F1 Score: {f1_score}%')\n",
        "      print('='*50) \n",
        "      print('\\n')"
      ],
      "execution_count": 47,
      "outputs": [
        {
          "output_type": "stream",
          "text": [
            "accuracy Score: 88.46%\n",
            "Precision Score: 85.18%\n",
            "Recall Score: 98.72%\n",
            "F1 Score: 91.45%\n",
            "==================================================\n",
            "\n",
            "\n"
          ],
          "name": "stdout"
        }
      ]
    },
    {
      "cell_type": "code",
      "metadata": {
        "id": "D1Kcs49J7loC",
        "outputId": "a1ee8109-a88f-4070-c6fd-885cd6e546d6",
        "colab": {
          "base_uri": "https://localhost:8080/"
        }
      },
      "source": [
        "from sklearn.metrics import confusion_matrix\r\n",
        "from sklearn.metrics import classification_report\r\n",
        "cm4= confusion_matrix(y_true, pred)\r\n",
        "print(classification_report(y_true, pred))"
      ],
      "execution_count": 38,
      "outputs": [
        {
          "output_type": "stream",
          "text": [
            "              precision    recall  f1-score   support\n",
            "\n",
            "           0       0.97      0.71      0.82       234\n",
            "           1       0.85      0.99      0.91       390\n",
            "\n",
            "    accuracy                           0.88       624\n",
            "   macro avg       0.91      0.85      0.87       624\n",
            "weighted avg       0.90      0.88      0.88       624\n",
            "\n"
          ],
          "name": "stdout"
        }
      ]
    }
  ]
}