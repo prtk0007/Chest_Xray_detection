{
  "nbformat": 4,
  "nbformat_minor": 0,
  "metadata": {
    "colab": {
      "name": "scratch_cnn_3.ipynb",
      "provenance": [],
      "collapsed_sections": [],
      "mount_file_id": "1ERZ5wv57_E5ZFPyYfBT4HY7tod8GgbeT",
      "authorship_tag": "ABX9TyMkDO6luiXhoYoY6jFNHq5l",
      "include_colab_link": true
    },
    "kernelspec": {
      "name": "python3",
      "display_name": "Python 3"
    },
    "accelerator": "GPU"
  },
  "cells": [
    {
      "cell_type": "markdown",
      "metadata": {
        "id": "view-in-github",
        "colab_type": "text"
      },
      "source": [
        "<a href=\"https://colab.research.google.com/github/prtk0007/Chest_Xray_detection/blob/exp_binary/scratch_cnn_3.ipynb\" target=\"_parent\"><img src=\"https://colab.research.google.com/assets/colab-badge.svg\" alt=\"Open In Colab\"/></a>"
      ]
    },
    {
      "cell_type": "code",
      "metadata": {
        "id": "qehiH7Y0q0Kh"
      },
      "source": [
        ""
      ],
      "execution_count": 1,
      "outputs": []
    },
    {
      "cell_type": "code",
      "metadata": {
        "id": "dsCpyScq8HWE"
      },
      "source": [
        "import os\r\n",
        "os.environ['KAGGLE_CONFIG_DIR'] = \"/content\"\r\n",
        "# # !kaggle datasets download -d paultimothymooney/chest-xray-pneumonia\r\n",
        "! kaggle datasets download -d pcbreviglieri/pneumonia-xray-images\r\n",
        "#!kaggle datasets download -d tawsifurrahman/covid19-radiography-database\r\n",
        "!unzip \\*.zip"
      ],
      "execution_count": null,
      "outputs": []
    },
    {
      "cell_type": "code",
      "metadata": {
        "id": "OPQ6QDVlCIzI"
      },
      "source": [
        "import matplotlib.pyplot as plt\n",
        "import numpy as np\n",
        "import pandas as pd"
      ],
      "execution_count": 34,
      "outputs": []
    },
    {
      "cell_type": "code",
      "metadata": {
        "id": "fqJZa3arDwwJ"
      },
      "source": [
        "train_path = '/content/train'\n",
        "test_path = '/content/test'\n",
        "valid_path = '/content/val'"
      ],
      "execution_count": 35,
      "outputs": []
    },
    {
      "cell_type": "code",
      "metadata": {
        "id": "HARIiHrzEySz"
      },
      "source": [
        "\n",
        "#Define standard parameter values\n",
        "batch_size = 32\n",
        "img_height = 200\n",
        "img_width = 200\n"
      ],
      "execution_count": 43,
      "outputs": []
    },
    {
      "cell_type": "code",
      "metadata": {
        "id": "2HqL0LBA3mOC",
        "colab": {
          "base_uri": "https://localhost:8080/"
        },
        "outputId": "0c78aa27-9cac-45df-e09a-d425a3b1a833"
      },
      "source": [
        "from tensorflow.keras.preprocessing.image import ImageDataGenerator, array_to_img\n",
        "\n",
        "image_gen = ImageDataGenerator(\n",
        "                                   rescale = 1./255,\n",
        "                                   shear_range = 0.2,\n",
        "                                   zoom_range = 0.2,\n",
        "                                   rotation_range=20,\n",
        "                                   horizontal_flip = True,\n",
        "                              \n",
        "                               )  \n",
        "\n",
        "test_data_gen = ImageDataGenerator(rescale = 1./255)\n",
        "\n",
        "\n",
        "\n",
        "train = image_gen.flow_from_directory(\n",
        "    train_path,\n",
        "    target_size=(img_height, img_width),\n",
        "    color_mode='rgb',\n",
        "    class_mode='binary',\n",
        "    batch_size=batch_size\n",
        "                                      )\n",
        "\n",
        "test = test_data_gen.flow_from_directory(\n",
        "      test_path,\n",
        "      target_size=(img_height, img_width),\n",
        "      color_mode='rgb',shuffle=False,\n",
        "      class_mode='binary',\n",
        "      batch_size=batch_size\n",
        "      )\n",
        "valid = test_data_gen.flow_from_directory(\n",
        "      valid_path,\n",
        "      target_size=(img_height, img_width),\n",
        "      color_mode='rgb',\n",
        "      class_mode='binary', \n",
        "      batch_size=batch_size\n",
        "      )"
      ],
      "execution_count": 44,
      "outputs": [
        {
          "output_type": "stream",
          "text": [
            "Found 4192 images belonging to 2 classes.\n",
            "Found 624 images belonging to 2 classes.\n",
            "Found 1040 images belonging to 2 classes.\n"
          ],
          "name": "stdout"
        }
      ]
    },
    {
      "cell_type": "code",
      "metadata": {
        "id": "RfeXspblliw3"
      },
      "source": [
        "from tensorflow.keras.models import Sequential,load_model,save_model\n",
        "from tensorflow.keras.layers import Dense,Conv2D,Flatten,MaxPooling2D,Dropout,SeparableConv2D,BatchNormalization\n",
        "from tensorflow.keras.callbacks import EarlyStopping,ReduceLROnPlateau"
      ],
      "execution_count": 45,
      "outputs": []
    },
    {
      "cell_type": "code",
      "metadata": {
        "id": "YEByVAKiAsiy"
      },
      "source": [
        "cnn = Sequential()\r\n",
        "\r\n",
        "cnn.add(Conv2D(32, (3, 3), activation=\"relu\", input_shape=(img_width, img_height, 3)))\r\n",
        "cnn.add(Conv2D(32, (3, 3), activation=\"relu\", input_shape=(img_width, img_height, 3)))\r\n",
        "cnn.add(MaxPooling2D(pool_size = (2, 2)))\r\n",
        "\r\n",
        "cnn.add(SeparableConv2D(32, (3, 3), activation=\"relu\", input_shape=(img_width, img_height, 3)))\r\n",
        "cnn.add(SeparableConv2D(32, (3, 3), activation=\"relu\", input_shape=(img_width, img_height, 3)))\r\n",
        "cnn.add(BatchNormalization())\r\n",
        "cnn.add(MaxPooling2D(pool_size = (2, 2)))\r\n",
        "\r\n",
        "cnn.add(SeparableConv2D(64, (3, 3), activation=\"relu\", input_shape=(img_width, img_height, 3)))\r\n",
        "cnn.add(SeparableConv2D(64, (3, 3), activation=\"relu\", input_shape=(img_width, img_height, 3)))\r\n",
        "cnn.add(BatchNormalization())\r\n",
        "cnn.add(MaxPooling2D(pool_size = (2, 2)))\r\n",
        "\r\n",
        "cnn.add(SeparableConv2D(128, (3, 3), activation=\"relu\", input_shape=(img_width, img_height, 3)))\r\n",
        "cnn.add(SeparableConv2D(128, (3, 3), activation=\"relu\", input_shape=(img_width, img_height, 3)))\r\n",
        "cnn.add(BatchNormalization())\r\n",
        "cnn.add(MaxPooling2D(pool_size = (2, 2)))\r\n",
        "cnn.add(Dropout(0.2))\r\n",
        "\r\n",
        "cnn.add(Flatten())\r\n",
        "\r\n",
        "cnn.add(Dense(activation = 'relu', units = 256))\r\n",
        "cnn.add(Dropout(0.3))\r\n",
        "cnn.add(Dense(activation = 'relu', units = 128))\r\n",
        "cnn.add(Dropout(0.1))\r\n",
        "cnn.add(Dense(activation = 'sigmoid', units = 1))\r\n",
        "\r\n",
        "\r\n",
        "cnn.compile(optimizer = 'adam', loss = 'binary_crossentropy', metrics = ['accuracy'])"
      ],
      "execution_count": 46,
      "outputs": []
    },
    {
      "cell_type": "code",
      "metadata": {
        "id": "_N-fJYMgwvxR",
        "colab": {
          "base_uri": "https://localhost:8080/"
        },
        "outputId": "1a0ca996-6a2b-4938-9c6b-0ba29ade9eb8"
      },
      "source": [
        "cnn.summary()"
      ],
      "execution_count": 47,
      "outputs": [
        {
          "output_type": "stream",
          "text": [
            "Model: \"sequential_4\"\n",
            "_________________________________________________________________\n",
            "Layer (type)                 Output Shape              Param #   \n",
            "=================================================================\n",
            "conv2d_6 (Conv2D)            (None, 198, 198, 32)      896       \n",
            "_________________________________________________________________\n",
            "conv2d_7 (Conv2D)            (None, 196, 196, 32)      9248      \n",
            "_________________________________________________________________\n",
            "max_pooling2d_22 (MaxPooling (None, 98, 98, 32)        0         \n",
            "_________________________________________________________________\n",
            "separable_conv2d_24 (Separab (None, 96, 96, 32)        1344      \n",
            "_________________________________________________________________\n",
            "separable_conv2d_25 (Separab (None, 94, 94, 32)        1344      \n",
            "_________________________________________________________________\n",
            "batch_normalization_18 (Batc (None, 94, 94, 32)        128       \n",
            "_________________________________________________________________\n",
            "max_pooling2d_23 (MaxPooling (None, 47, 47, 32)        0         \n",
            "_________________________________________________________________\n",
            "separable_conv2d_26 (Separab (None, 45, 45, 64)        2400      \n",
            "_________________________________________________________________\n",
            "separable_conv2d_27 (Separab (None, 43, 43, 64)        4736      \n",
            "_________________________________________________________________\n",
            "batch_normalization_19 (Batc (None, 43, 43, 64)        256       \n",
            "_________________________________________________________________\n",
            "max_pooling2d_24 (MaxPooling (None, 21, 21, 64)        0         \n",
            "_________________________________________________________________\n",
            "separable_conv2d_28 (Separab (None, 19, 19, 128)       8896      \n",
            "_________________________________________________________________\n",
            "separable_conv2d_29 (Separab (None, 17, 17, 128)       17664     \n",
            "_________________________________________________________________\n",
            "batch_normalization_20 (Batc (None, 17, 17, 128)       512       \n",
            "_________________________________________________________________\n",
            "max_pooling2d_25 (MaxPooling (None, 8, 8, 128)         0         \n",
            "_________________________________________________________________\n",
            "dropout_9 (Dropout)          (None, 8, 8, 128)         0         \n",
            "_________________________________________________________________\n",
            "flatten_4 (Flatten)          (None, 8192)              0         \n",
            "_________________________________________________________________\n",
            "dense_12 (Dense)             (None, 256)               2097408   \n",
            "_________________________________________________________________\n",
            "dropout_10 (Dropout)         (None, 256)               0         \n",
            "_________________________________________________________________\n",
            "dense_13 (Dense)             (None, 128)               32896     \n",
            "_________________________________________________________________\n",
            "dropout_11 (Dropout)         (None, 128)               0         \n",
            "_________________________________________________________________\n",
            "dense_14 (Dense)             (None, 1)                 129       \n",
            "=================================================================\n",
            "Total params: 2,177,857\n",
            "Trainable params: 2,177,409\n",
            "Non-trainable params: 448\n",
            "_________________________________________________________________\n"
          ],
          "name": "stdout"
        }
      ]
    },
    {
      "cell_type": "code",
      "metadata": {
        "id": "Aiw4SPH28S_S"
      },
      "source": [
        "early = EarlyStopping(monitor=\"val_loss\", \n",
        "                      mode=\"min\",\n",
        "                      min_delta=0.1, \n",
        "                      patience=10)\n",
        "\n",
        "learning_rate_reduction = ReduceLROnPlateau(monitor='val_loss', patience = 2, verbose=2,factor=0.3, mode='max')\n",
        "\n",
        "callbacks_list = [ early, learning_rate_reduction]"
      ],
      "execution_count": 48,
      "outputs": []
    },
    {
      "cell_type": "code",
      "metadata": {
        "id": "FhMkSOX2-PR3",
        "colab": {
          "base_uri": "https://localhost:8080/"
        },
        "outputId": "cacf2343-fec1-4c25-9548-aaa9888523bc"
      },
      "source": [
        "from sklearn.utils.class_weight import compute_class_weight\n",
        "weights = compute_class_weight('balanced', np.unique(train.classes), train.classes)\n",
        "cw = dict(zip( np.unique(train.classes), weights))\n",
        "print(cw)"
      ],
      "execution_count": 49,
      "outputs": [
        {
          "output_type": "stream",
          "text": [
            "{0: 1.9371534195933457, 1: 0.6739549839228296}\n"
          ],
          "name": "stdout"
        }
      ]
    },
    {
      "cell_type": "code",
      "metadata": {
        "colab": {
          "base_uri": "https://localhost:8080/"
        },
        "id": "-xaYqnf9usRn",
        "outputId": "e995a1ca-8d59-4773-e2bc-1b143c04ca37"
      },
      "source": [
        "r = cnn.fit(train,epochs=20, validation_data=valid, class_weight=cw, callbacks=callbacks_list)"
      ],
      "execution_count": 50,
      "outputs": [
        {
          "output_type": "stream",
          "text": [
            "Epoch 1/20\n",
            "131/131 [==============================] - 105s 782ms/step - loss: 0.4162 - accuracy: 0.7760 - val_loss: 0.5853 - val_accuracy: 0.7433\n",
            "Epoch 2/20\n",
            "131/131 [==============================] - 101s 772ms/step - loss: 0.2292 - accuracy: 0.9027 - val_loss: 0.6974 - val_accuracy: 0.7433\n",
            "Epoch 3/20\n",
            "131/131 [==============================] - 100s 762ms/step - loss: 0.2061 - accuracy: 0.9107 - val_loss: 0.9313 - val_accuracy: 0.7433\n",
            "Epoch 4/20\n",
            "131/131 [==============================] - 100s 765ms/step - loss: 0.1943 - accuracy: 0.9158 - val_loss: 0.5985 - val_accuracy: 0.7433\n",
            "Epoch 5/20\n",
            "131/131 [==============================] - 102s 775ms/step - loss: 0.2043 - accuracy: 0.9157 - val_loss: 0.6045 - val_accuracy: 0.7788\n",
            "\n",
            "Epoch 00005: ReduceLROnPlateau reducing learning rate to 0.0003000000142492354.\n",
            "Epoch 6/20\n",
            "131/131 [==============================] - 101s 768ms/step - loss: 0.1647 - accuracy: 0.9351 - val_loss: 0.2704 - val_accuracy: 0.9298\n",
            "Epoch 7/20\n",
            "131/131 [==============================] - 100s 762ms/step - loss: 0.1470 - accuracy: 0.9377 - val_loss: 0.2248 - val_accuracy: 0.9346\n",
            "\n",
            "Epoch 00007: ReduceLROnPlateau reducing learning rate to 9.000000427477062e-05.\n",
            "Epoch 8/20\n",
            "131/131 [==============================] - 100s 763ms/step - loss: 0.1297 - accuracy: 0.9490 - val_loss: 0.1862 - val_accuracy: 0.9442\n",
            "Epoch 9/20\n",
            "131/131 [==============================] - 99s 758ms/step - loss: 0.1148 - accuracy: 0.9557 - val_loss: 0.1890 - val_accuracy: 0.9250\n",
            "\n",
            "Epoch 00009: ReduceLROnPlateau reducing learning rate to 2.700000040931627e-05.\n",
            "Epoch 10/20\n",
            "131/131 [==============================] - 100s 760ms/step - loss: 0.1172 - accuracy: 0.9527 - val_loss: 0.1850 - val_accuracy: 0.9346\n",
            "Epoch 11/20\n",
            "131/131 [==============================] - 99s 757ms/step - loss: 0.1245 - accuracy: 0.9529 - val_loss: 0.1924 - val_accuracy: 0.9240\n",
            "\n",
            "Epoch 00011: ReduceLROnPlateau reducing learning rate to 8.100000013655517e-06.\n",
            "Epoch 12/20\n",
            "131/131 [==============================] - 100s 764ms/step - loss: 0.1245 - accuracy: 0.9549 - val_loss: 0.2056 - val_accuracy: 0.9192\n",
            "Epoch 13/20\n",
            "131/131 [==============================] - 99s 758ms/step - loss: 0.1183 - accuracy: 0.9570 - val_loss: 0.2018 - val_accuracy: 0.9212\n",
            "\n",
            "Epoch 00013: ReduceLROnPlateau reducing learning rate to 2.429999949526973e-06.\n",
            "Epoch 14/20\n",
            "131/131 [==============================] - 99s 756ms/step - loss: 0.1204 - accuracy: 0.9498 - val_loss: 0.2019 - val_accuracy: 0.9221\n",
            "Epoch 15/20\n",
            "131/131 [==============================] - 99s 758ms/step - loss: 0.1245 - accuracy: 0.9496 - val_loss: 0.2043 - val_accuracy: 0.9202\n",
            "\n",
            "Epoch 00015: ReduceLROnPlateau reducing learning rate to 7.289999985005124e-07.\n",
            "Epoch 16/20\n",
            "131/131 [==============================] - 100s 764ms/step - loss: 0.1178 - accuracy: 0.9471 - val_loss: 0.2040 - val_accuracy: 0.9202\n"
          ],
          "name": "stdout"
        }
      ]
    },
    {
      "cell_type": "code",
      "metadata": {
        "colab": {
          "base_uri": "https://localhost:8080/"
        },
        "id": "al15xBtQVwxa",
        "outputId": "95d44c58-22a1-470b-c4fd-e0f9cc5e533f"
      },
      "source": [
        "cnn.history.history"
      ],
      "execution_count": 33,
      "outputs": [
        {
          "output_type": "execute_result",
          "data": {
            "text/plain": [
              "{}"
            ]
          },
          "metadata": {
            "tags": []
          },
          "execution_count": 33
        }
      ]
    },
    {
      "cell_type": "code",
      "metadata": {
        "colab": {
          "base_uri": "https://localhost:8080/"
        },
        "id": "4AjK0ByXQgpI",
        "outputId": "a281a6ec-a4bc-4059-ca86-c8b5a084f2cb"
      },
      "source": [
        "cnn.evaluate(train)"
      ],
      "execution_count": 53,
      "outputs": [
        {
          "output_type": "stream",
          "text": [
            "131/131 [==============================] - 82s 623ms/step - loss: 0.1219 - accuracy: 0.9513\n"
          ],
          "name": "stdout"
        },
        {
          "output_type": "execute_result",
          "data": {
            "text/plain": [
              "[0.12193142622709274, 0.9513359069824219]"
            ]
          },
          "metadata": {
            "tags": []
          },
          "execution_count": 53
        }
      ]
    },
    {
      "cell_type": "code",
      "metadata": {
        "colab": {
          "base_uri": "https://localhost:8080/"
        },
        "id": "be1coJhGQo2B",
        "outputId": "369b3b16-92d5-4f0e-d59b-ce9d7368ebb5"
      },
      "source": [
        "cnn.evaluate(valid)"
      ],
      "execution_count": 20,
      "outputs": [
        {
          "output_type": "stream",
          "text": [
            "33/33 [==============================] - 16s 464ms/step - loss: 0.1743 - accuracy: 0.9288\n"
          ],
          "name": "stdout"
        },
        {
          "output_type": "execute_result",
          "data": {
            "text/plain": [
              "[0.17425620555877686, 0.9288461804389954]"
            ]
          },
          "metadata": {
            "tags": []
          },
          "execution_count": 20
        }
      ]
    },
    {
      "cell_type": "code",
      "metadata": {
        "colab": {
          "base_uri": "https://localhost:8080/"
        },
        "id": "aBD-mV8dSefZ",
        "outputId": "82c3d290-f53e-4388-e11d-ac9adda56c3e"
      },
      "source": [
        "cnn.evaluate(test)"
      ],
      "execution_count": 52,
      "outputs": [
        {
          "output_type": "stream",
          "text": [
            "20/20 [==============================] - 6s 295ms/step - loss: 0.2624 - accuracy: 0.9151\n"
          ],
          "name": "stdout"
        },
        {
          "output_type": "execute_result",
          "data": {
            "text/plain": [
              "[0.2624092996120453, 0.9150640964508057]"
            ]
          },
          "metadata": {
            "tags": []
          },
          "execution_count": 52
        }
      ]
    },
    {
      "cell_type": "code",
      "metadata": {
        "colab": {
          "base_uri": "https://localhost:8080/"
        },
        "id": "XWEFtUFVoqjg",
        "outputId": "ca113cf3-d654-4c68-82f0-bd45c26586d6"
      },
      "source": [
        "%cd /content/drive/MyDrive/Kaggle\r\n",
        "from keras.models import load_model\r\n",
        "cnn.save('scratch3_seperable conv_acc92.h5')"
      ],
      "execution_count": 61,
      "outputs": [
        {
          "output_type": "stream",
          "text": [
            "/content/drive/MyDrive/Kaggle\n"
          ],
          "name": "stdout"
        }
      ]
    },
    {
      "cell_type": "code",
      "metadata": {
        "colab": {
          "base_uri": "https://localhost:8080/",
          "height": 287
        },
        "id": "E8aaK91RUaLe",
        "outputId": "12bb637d-c785-43ac-95d7-596f8ea926d0"
      },
      "source": [
        "pd.DataFrame(r.history).plot()"
      ],
      "execution_count": 56,
      "outputs": [
        {
          "output_type": "execute_result",
          "data": {
            "text/plain": [
              "<matplotlib.axes._subplots.AxesSubplot at 0x7f2f2cf20ad0>"
            ]
          },
          "metadata": {
            "tags": []
          },
          "execution_count": 56
        },
        {
          "output_type": "display_data",
          "data": {
            "image/png": "[encoded data removed]",
            "text/plain": [
              "<Figure size 432x288 with 1 Axes>"
            ]
          },
          "metadata": {
            "tags": [],
            "needs_background": "light"
          }
        }
      ]
    },
    {
      "cell_type": "code",
      "metadata": {
        "id": "OnaYIUKUoY7d"
      },
      "source": [
        ""
      ],
      "execution_count": 60,
      "outputs": []
    },
    {
      "cell_type": "code",
      "metadata": {
        "colab": {
          "base_uri": "https://localhost:8080/",
          "height": 531
        },
        "id": "RQRRWSdATbQL",
        "outputId": "7e9cc9e5-3c70-421b-c5a6-6687fa8be1cc"
      },
      "source": [
        "plt.plot(r.history['loss'], label='train loss')\r\n",
        "plt.plot(r.history['val_loss'], label='val loss')\r\n",
        "plt.legend()\r\n",
        "plt.show()\r\n",
        "plt.savefig('LossVal_loss')\r\n",
        "\r\n",
        "# plot the accuracy\r\n",
        "plt.plot(r.history['accuracy'], label='train acc')\r\n",
        "plt.plot(r.history['val_accuracy'], label='val acc')\r\n",
        "plt.legend()\r\n",
        "plt.show()\r\n",
        "plt.savefig('AccVal_acc')"
      ],
      "execution_count": 51,
      "outputs": [
        {
          "output_type": "display_data",
          "data": {
            "image/png": "[encoded data removed]",
            "text/plain": [
              "<Figure size 432x288 with 1 Axes>"
            ]
          },
          "metadata": {
            "tags": [],
            "needs_background": "light"
          }
        },
        {
          "output_type": "display_data",
          "data": {
            "image/png": "[encoded data removed]",
            "text/plain": [
              "<Figure size 432x288 with 1 Axes>"
            ]
          },
          "metadata": {
            "tags": [],
            "needs_background": "light"
          }
        },
        {
          "output_type": "display_data",
          "data": {
            "text/plain": [
              "<Figure size 432x288 with 0 Axes>"
            ]
          },
          "metadata": {
            "tags": []
          }
        }
      ]
    },
    {
      "cell_type": "code",
      "metadata": {
        "id": "WabvnBbzYjtm",
        "colab": {
          "base_uri": "https://localhost:8080/"
        },
        "outputId": "ab3ab993-eb7e-4822-e806-fa3e357fd9fb"
      },
      "source": [
        "preds = cnn.predict(test,verbose=1)"
      ],
      "execution_count": 57,
      "outputs": [
        {
          "output_type": "stream",
          "text": [
            "20/20 [==============================] - 7s 318ms/step\n"
          ],
          "name": "stdout"
        }
      ]
    },
    {
      "cell_type": "code",
      "metadata": {
        "id": "M7pNRGOURv5R"
      },
      "source": [
        "predictions = preds.copy()\n",
        "predictions[predictions <= 0.5] = 0\n",
        "predictions[predictions > 0.5] = 1"
      ],
      "execution_count": 58,
      "outputs": []
    },
    {
      "cell_type": "code",
      "metadata": {
        "id": "zioov-9cUzoe",
        "colab": {
          "base_uri": "https://localhost:8080/",
          "height": 297
        },
        "outputId": "42316f6d-e647-4885-d6ed-319da9b763be"
      },
      "source": [
        "from sklearn.metrics import classification_report,confusion_matrix\n",
        "\n",
        "cm = pd.DataFrame(data=confusion_matrix(test.classes, predictions, labels=[0, 1]),\n",
        "                  index=[\"Actual Normal\", \"Actual Pneumonia\"],\n",
        "                  columns=[\"Predicted Normal\", \"Predicted Pneumonia\"])\n",
        "import seaborn as sns\n",
        "sns.heatmap(cm,annot=True,fmt=\"d\")"
      ],
      "execution_count": 59,
      "outputs": [
        {
          "output_type": "execute_result",
          "data": {
            "text/plain": [
              "<matplotlib.axes._subplots.AxesSubplot at 0x7f2ec80eb450>"
            ]
          },
          "metadata": {
            "tags": []
          },
          "execution_count": 59
        },
        {
          "output_type": "display_data",
          "data": {
            "image/png": "[encoded data removed]",
            "text/plain": [
              "<Figure size 432x288 with 2 Axes>"
            ]
          },
          "metadata": {
            "tags": [],
            "needs_background": "light"
          }
        }
      ]
    },
    {
      "cell_type": "code",
      "metadata": {
        "id": "nbUlSI-dR1EV",
        "colab": {
          "base_uri": "https://localhost:8080/"
        },
        "outputId": "6e8b2449-b51b-4d61-e248-765d11c5a4e1"
      },
      "source": [
        " print(classification_report(y_true=test.classes, y_pred=predictions,\n",
        "                            target_names =['NORMAL','PNEUMONIA']\n",
        " ))"
      ],
      "execution_count": 60,
      "outputs": [
        {
          "output_type": "stream",
          "text": [
            "              precision    recall  f1-score   support\n",
            "\n",
            "      NORMAL       0.93      0.84      0.88       234\n",
            "   PNEUMONIA       0.91      0.96      0.93       390\n",
            "\n",
            "    accuracy                           0.92       624\n",
            "   macro avg       0.92      0.90      0.91       624\n",
            "weighted avg       0.92      0.92      0.91       624\n",
            "\n"
          ],
          "name": "stdout"
        }
      ]
    }
  ]
}